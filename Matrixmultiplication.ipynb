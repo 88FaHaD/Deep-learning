{
  "nbformat": 4,
  "nbformat_minor": 0,
  "metadata": {
    "colab": {
      "provenance": [],
      "authorship_tag": "ABX9TyMLbJEZS0UbvrI5K692T8rL",
      "include_colab_link": true
    },
    "kernelspec": {
      "name": "python3",
      "display_name": "Python 3"
    },
    "language_info": {
      "name": "python"
    }
  },
  "cells": [
    {
      "cell_type": "markdown",
      "metadata": {
        "id": "view-in-github",
        "colab_type": "text"
      },
      "source": [
        "<a href=\"https://colab.research.google.com/github/88FaHaD/Deep-learning/blob/main/Matrixmultiplication.ipynb\" target=\"_parent\"><img src=\"https://colab.research.google.com/assets/colab-badge.svg\" alt=\"Open In Colab\"/></a>"
      ]
    },
    {
      "cell_type": "markdown",
      "source": [
        "# Matrix multiplicaton\n",
        "## tf.matmul(mat1,mat2)\n",
        "in mechine learning matrix multiplication are the most common tensor operations"
      ],
      "metadata": {
        "id": "jlAyk-x3YiK1"
      }
    },
    {
      "cell_type": "code",
      "execution_count": null,
      "metadata": {
        "id": "NqeUMQ3YXWiL"
      },
      "outputs": [],
      "source": [
        "import tensorflow as tf"
      ]
    },
    {
      "cell_type": "code",
      "source": [
        "matrix1 = tf.constant([[1, 2, 3], [4, 5, 6], [7, 8, 9]], dtype=tf.float32)\n",
        "matrix2 = tf.constant([[9, 8, 7], [6, 5, 4], [3, 2, 1]], dtype=tf.float32)"
      ],
      "metadata": {
        "id": "pbsfFpb_XeWU"
      },
      "execution_count": null,
      "outputs": []
    },
    {
      "cell_type": "code",
      "source": [
        "result_matrix=tf.matmul(matrix1,matrix2)\n",
        "result_matrix"
      ],
      "metadata": {
        "colab": {
          "base_uri": "https://localhost:8080/"
        },
        "id": "UwhvZuyUYxQt",
        "outputId": "34e5a5aa-bd48-47bd-d752-c73f3127c944"
      },
      "execution_count": null,
      "outputs": [
        {
          "output_type": "execute_result",
          "data": {
            "text/plain": [
              "<tf.Tensor: shape=(3, 3), dtype=float32, numpy=\n",
              "array([[ 30.,  24.,  18.],\n",
              "       [ 84.,  69.,  54.],\n",
              "       [138., 114.,  90.]], dtype=float32)>"
            ]
          },
          "metadata": {},
          "execution_count": 3
        }
      ]
    },
    {
      "cell_type": "markdown",
      "source": [
        "# Matrix multiplication using python operator  @"
      ],
      "metadata": {
        "id": "J_nxedYxcbiu"
      }
    },
    {
      "cell_type": "code",
      "source": [
        "matrix1 @ matrix2"
      ],
      "metadata": {
        "colab": {
          "base_uri": "https://localhost:8080/"
        },
        "id": "YfDkbW3UchG0",
        "outputId": "90847280-ce64-42f7-b46b-ab0e304f1ba5"
      },
      "execution_count": null,
      "outputs": [
        {
          "output_type": "execute_result",
          "data": {
            "text/plain": [
              "<tf.Tensor: shape=(3, 3), dtype=float32, numpy=\n",
              "array([[ 30.,  24.,  18.],\n",
              "       [ 84.,  69.,  54.],\n",
              "       [138., 114.,  90.]], dtype=float32)>"
            ]
          },
          "metadata": {},
          "execution_count": 4
        }
      ]
    },
    {
      "cell_type": "markdown",
      "source": [
        "# Matrix multiplication  with tensors of different shape\n",
        "\n",
        "* Two rules\n",
        "\n",
        "1 Inner dimensions must match.\n",
        "\n",
        "2 the resulting matrix must have shape of the outer dimension"
      ],
      "metadata": {
        "id": "zlaogT7Ycxbc"
      }
    },
    {
      "cell_type": "code",
      "source": [
        "x=tf.constant([[1,2],\n",
        "               [3,4],\n",
        "               [5,6]])\n",
        "y=tf.constant([[2,3,4],\n",
        "               [5,6,7],\n",
        "               [8,8,20]])\n",
        "\n",
        "# eror for z = tf.matmul(x,y)\n",
        "z = tf.matmul(y,x)\n",
        "z"
      ],
      "metadata": {
        "colab": {
          "base_uri": "https://localhost:8080/"
        },
        "id": "9Xz9azSoc54N",
        "outputId": "beeedd09-1c99-47e7-c734-b6f66fb1209a"
      },
      "execution_count": null,
      "outputs": [
        {
          "output_type": "execute_result",
          "data": {
            "text/plain": [
              "<tf.Tensor: shape=(3, 2), dtype=int32, numpy=\n",
              "array([[ 31,  40],\n",
              "       [ 58,  76],\n",
              "       [132, 168]], dtype=int32)>"
            ]
          },
          "metadata": {},
          "execution_count": 5
        }
      ]
    },
    {
      "cell_type": "code",
      "source": [
        "tf.shape(x)"
      ],
      "metadata": {
        "colab": {
          "base_uri": "https://localhost:8080/"
        },
        "id": "xItFoqeniCxl",
        "outputId": "1871ecfc-149f-4867-998b-35a14e92e607"
      },
      "execution_count": null,
      "outputs": [
        {
          "output_type": "execute_result",
          "data": {
            "text/plain": [
              "<tf.Tensor: shape=(2,), dtype=int32, numpy=array([3, 2], dtype=int32)>"
            ]
          },
          "metadata": {},
          "execution_count": 6
        }
      ]
    },
    {
      "cell_type": "markdown",
      "source": [
        "# using tf.reshape"
      ],
      "metadata": {
        "id": "wPdgBTO3hbzE"
      }
    },
    {
      "cell_type": "code",
      "source": [
        "x=tf.reshape(x,shape=(2,3))"
      ],
      "metadata": {
        "id": "wABlf_yYgLj1"
      },
      "execution_count": null,
      "outputs": []
    },
    {
      "cell_type": "code",
      "source": [
        "z=tf.matmul(x,y)\n",
        "z"
      ],
      "metadata": {
        "colab": {
          "base_uri": "https://localhost:8080/"
        },
        "id": "tCorksPNhvM0",
        "outputId": "aa9a8d7b-8aa6-4d46-a227-228a60db49a5"
      },
      "execution_count": null,
      "outputs": [
        {
          "output_type": "execute_result",
          "data": {
            "text/plain": [
              "<tf.Tensor: shape=(2, 3), dtype=int32, numpy=\n",
              "array([[ 36,  39,  78],\n",
              "       [ 81,  90, 171]], dtype=int32)>"
            ]
          },
          "metadata": {},
          "execution_count": 8
        }
      ]
    },
    {
      "cell_type": "code",
      "source": [
        "x=tf.constant([[100,200],[300,400]])\n",
        "y=tf.constant([[1,2,3,4]])\n",
        "tf.shape(y)\n"
      ],
      "metadata": {
        "colab": {
          "base_uri": "https://localhost:8080/"
        },
        "id": "_AYi9IK_iYr1",
        "outputId": "5e06828c-3abb-42c9-dbc5-e4ccf5098f07"
      },
      "execution_count": null,
      "outputs": [
        {
          "output_type": "execute_result",
          "data": {
            "text/plain": [
              "<tf.Tensor: shape=(2,), dtype=int32, numpy=array([1, 4], dtype=int32)>"
            ]
          },
          "metadata": {},
          "execution_count": 9
        }
      ]
    },
    {
      "cell_type": "code",
      "source": [
        "# error if we try to perform tf.matmul(x,y)\n"
      ],
      "metadata": {
        "id": "3rrutLN1jT8d"
      },
      "execution_count": null,
      "outputs": []
    },
    {
      "cell_type": "code",
      "source": [
        "# Now we use reshaping\n",
        "y=tf.reshape(y,shape=(2,2))\n",
        "tf.shape(y)"
      ],
      "metadata": {
        "colab": {
          "base_uri": "https://localhost:8080/"
        },
        "id": "bfdcWcjRjfz1",
        "outputId": "7fb8c210-2b4e-4a91-fb63-eea46430c456"
      },
      "execution_count": null,
      "outputs": [
        {
          "output_type": "execute_result",
          "data": {
            "text/plain": [
              "<tf.Tensor: shape=(2,), dtype=int32, numpy=array([2, 2], dtype=int32)>"
            ]
          },
          "metadata": {},
          "execution_count": 11
        }
      ]
    },
    {
      "cell_type": "code",
      "source": [
        "z=tf.matmul(x,y)\n",
        "z"
      ],
      "metadata": {
        "colab": {
          "base_uri": "https://localhost:8080/"
        },
        "id": "wC9y3_1DkK91",
        "outputId": "4dce9ceb-1c1b-4f16-c52b-07a378a386dd"
      },
      "execution_count": null,
      "outputs": [
        {
          "output_type": "execute_result",
          "data": {
            "text/plain": [
              "<tf.Tensor: shape=(2, 2), dtype=int32, numpy=\n",
              "array([[ 700, 1000],\n",
              "       [1500, 2200]], dtype=int32)>"
            ]
          },
          "metadata": {},
          "execution_count": 12
        }
      ]
    },
    {
      "cell_type": "markdown",
      "source": [
        "# using tf.transpose\n",
        "* tf.transpose swaps the axes (dimensions) of a tensor, effectively flipping its rows and columns for 2D tensors. It is commonly used when adjusting tensor dimensions for compatibility in mathematical operations or neural network layers.\n",
        "\n",
        "## Difference Between tf.transpose and tf.reshape:\n",
        "tf.transpose rearranges the axes of a tensor without changing its shape (number of elements stays the same).\n",
        "tf.reshape changes the shape of a tensor while preserving the order of elements and the total number of elements.\n"
      ],
      "metadata": {
        "id": "dYVwvZ07YbQ1"
      }
    },
    {
      "cell_type": "code",
      "source": [
        "x=tf.constant([[1,2],[3,4],[5,6]])\n",
        "tf.transpose(x)"
      ],
      "metadata": {
        "colab": {
          "base_uri": "https://localhost:8080/"
        },
        "id": "AK9q2QxPj23k",
        "outputId": "c89dc323-2419-4676-bb68-3d9d5b1dcb40"
      },
      "execution_count": null,
      "outputs": [
        {
          "output_type": "execute_result",
          "data": {
            "text/plain": [
              "<tf.Tensor: shape=(2,), dtype=int32, numpy=array([2, 3], dtype=int32)>"
            ]
          },
          "metadata": {},
          "execution_count": 16
        }
      ]
    },
    {
      "cell_type": "code",
      "source": [
        "y=tf.constant([[1,2],[3,4],[5,6]])\n"
      ],
      "metadata": {
        "id": "9Qzj32WflCQE"
      },
      "execution_count": null,
      "outputs": []
    },
    {
      "cell_type": "code",
      "source": [
        "z=tf.matmul(tf.transpose(x),y)\n",
        "z"
      ],
      "metadata": {
        "colab": {
          "base_uri": "https://localhost:8080/"
        },
        "id": "Yr8zGhvwoKxb",
        "outputId": "bb41c2d3-c9b3-4f9d-e7b0-4aa7fb1d3b82"
      },
      "execution_count": null,
      "outputs": [
        {
          "output_type": "execute_result",
          "data": {
            "text/plain": [
              "<tf.Tensor: shape=(2, 2), dtype=int32, numpy=\n",
              "array([[35, 44],\n",
              "       [44, 56]], dtype=int32)>"
            ]
          },
          "metadata": {},
          "execution_count": 20
        }
      ]
    },
    {
      "cell_type": "markdown",
      "source": [
        "# The dotproduct\n",
        "matrix multiplication also refered as dot product.\n",
        "\n",
        "matrix multiplication can e performed using\n",
        "\n",
        "* tf.matmul()\n",
        "* tf.tensordot()"
      ],
      "metadata": {
        "id": "8avhw4Y1o4f6"
      }
    },
    {
      "cell_type": "code",
      "source": [
        "tf.tensordot(tf.transpose(x),y,axes=1)"
      ],
      "metadata": {
        "colab": {
          "base_uri": "https://localhost:8080/"
        },
        "id": "YqPLiGL1ogj0",
        "outputId": "1b5378e2-54b5-4d9a-9f5d-72ba9155180e"
      },
      "execution_count": null,
      "outputs": [
        {
          "output_type": "execute_result",
          "data": {
            "text/plain": [
              "<tf.Tensor: shape=(2, 2), dtype=int32, numpy=\n",
              "array([[35, 44],\n",
              "       [44, 56]], dtype=int32)>"
            ]
          },
          "metadata": {},
          "execution_count": 24
        }
      ]
    }
  ]
}
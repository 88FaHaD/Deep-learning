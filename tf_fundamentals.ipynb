{
  "nbformat": 4,
  "nbformat_minor": 0,
  "metadata": {
    "colab": {
      "provenance": [],
      "authorship_tag": "ABX9TyM9X3JQVeC1SnnGqhYidkEz",
      "include_colab_link": true
    },
    "kernelspec": {
      "name": "python3",
      "display_name": "Python 3"
    },
    "language_info": {
      "name": "python"
    }
  },
  "cells": [
    {
      "cell_type": "markdown",
      "metadata": {
        "id": "view-in-github",
        "colab_type": "text"
      },
      "source": [
        "<a href=\"https://colab.research.google.com/github/88FaHaD/Deep-learning/blob/main/tf_fundamentals.ipynb\" target=\"_parent\"><img src=\"https://colab.research.google.com/assets/colab-badge.svg\" alt=\"Open In Colab\"/></a>"
      ]
    },
    {
      "cell_type": "markdown",
      "source": [],
      "metadata": {
        "id": "hu3BpWSKenji"
      }
    },
    {
      "cell_type": "code",
      "source": [
        "import tensorflow as tf"
      ],
      "metadata": {
        "id": "8okJkUbPgrAM"
      },
      "execution_count": null,
      "outputs": []
    },
    {
      "cell_type": "code",
      "source": [
        "print(tf.__version__)\n"
      ],
      "metadata": {
        "colab": {
          "base_uri": "https://localhost:8080/"
        },
        "id": "oaOfFx0Ggt2q",
        "outputId": "e174cd68-2b49-4a68-d309-a498cdb39e1a"
      },
      "execution_count": null,
      "outputs": [
        {
          "output_type": "stream",
          "name": "stdout",
          "text": [
            "2.17.1\n"
          ]
        }
      ]
    },
    {
      "cell_type": "code",
      "source": [
        "import sys\n",
        "print(sys.version)\n"
      ],
      "metadata": {
        "colab": {
          "base_uri": "https://localhost:8080/"
        },
        "id": "2tl6v8HWg_CS",
        "outputId": "aa000cf7-ed4a-4807-cf26-2b4eadbac868"
      },
      "execution_count": null,
      "outputs": [
        {
          "output_type": "stream",
          "name": "stdout",
          "text": [
            "3.10.12 (main, Nov  6 2024, 20:22:13) [GCC 11.4.0]\n"
          ]
        }
      ]
    },
    {
      "cell_type": "markdown",
      "source": [
        "## TF.constant\n",
        "tf.constant()\n",
        "creates a constant tensor.\n",
        "The first argument is the value (e.g., a list or scalar).\n",
        "dtype specifies the data type of the tensor (optional)."
      ],
      "metadata": {
        "id": "vLjKFkSdhdzM"
      }
    },
    {
      "cell_type": "code",
      "source": [
        "# creating tensors with tf.constant\n",
        "scaler=tf.constant(7)\n",
        "print(scaler)"
      ],
      "metadata": {
        "colab": {
          "base_uri": "https://localhost:8080/"
        },
        "id": "5QIDLQdUhIMT",
        "outputId": "0529d1b3-7f6c-428d-f05b-52a8de95fbd7"
      },
      "execution_count": null,
      "outputs": [
        {
          "output_type": "stream",
          "name": "stdout",
          "text": [
            "tf.Tensor(7, shape=(), dtype=int32)\n"
          ]
        }
      ]
    },
    {
      "cell_type": "markdown",
      "source": [
        "# NDIM IS Used to check the dimension"
      ],
      "metadata": {
        "id": "3yrQdX_5h0VL"
      }
    },
    {
      "cell_type": "code",
      "source": [
        "scaler.ndim"
      ],
      "metadata": {
        "colab": {
          "base_uri": "https://localhost:8080/"
        },
        "id": "oygyp_oeh5wz",
        "outputId": "198d59fb-00e4-4d26-a674-317f0afdfccd"
      },
      "execution_count": null,
      "outputs": [
        {
          "output_type": "execute_result",
          "data": {
            "text/plain": [
              "0"
            ]
          },
          "metadata": {},
          "execution_count": 5
        }
      ]
    },
    {
      "cell_type": "markdown",
      "source": [
        "# Creating a vector using tf.comnstant"
      ],
      "metadata": {
        "id": "yCvl99O6iHWz"
      }
    },
    {
      "cell_type": "code",
      "source": [
        "vector=tf.constant([7,9])\n",
        "vector"
      ],
      "metadata": {
        "colab": {
          "base_uri": "https://localhost:8080/"
        },
        "id": "JJNZYCvUiVAa",
        "outputId": "0e35c292-ce40-4dec-abe3-4f178052ecfd"
      },
      "execution_count": null,
      "outputs": [
        {
          "output_type": "execute_result",
          "data": {
            "text/plain": [
              "<tf.Tensor: shape=(2,), dtype=int32, numpy=array([7, 9], dtype=int32)>"
            ]
          },
          "metadata": {},
          "execution_count": 6
        }
      ]
    },
    {
      "cell_type": "code",
      "source": [
        "vector.ndim"
      ],
      "metadata": {
        "colab": {
          "base_uri": "https://localhost:8080/"
        },
        "id": "oJklxFUJimuE",
        "outputId": "ccc63cc3-a2fd-49e7-da8d-39888b9116d8"
      },
      "execution_count": null,
      "outputs": [
        {
          "output_type": "execute_result",
          "data": {
            "text/plain": [
              "1"
            ]
          },
          "metadata": {},
          "execution_count": 7
        }
      ]
    },
    {
      "cell_type": "markdown",
      "source": [
        "# creating a matrix ie more then one dimension"
      ],
      "metadata": {
        "id": "UlCZDBalix6P"
      }
    },
    {
      "cell_type": "code",
      "source": [
        "matrix=tf.constant([[10,7],[7,10]])\n",
        "matrix"
      ],
      "metadata": {
        "colab": {
          "base_uri": "https://localhost:8080/"
        },
        "id": "1l77baemi4QT",
        "outputId": "57209c6e-6527-4937-d79e-7606125f9e71"
      },
      "execution_count": null,
      "outputs": [
        {
          "output_type": "execute_result",
          "data": {
            "text/plain": [
              "<tf.Tensor: shape=(2, 2), dtype=int32, numpy=\n",
              "array([[10,  7],\n",
              "       [ 7, 10]], dtype=int32)>"
            ]
          },
          "metadata": {},
          "execution_count": 8
        }
      ]
    },
    {
      "cell_type": "code",
      "source": [
        "matrix.ndim"
      ],
      "metadata": {
        "colab": {
          "base_uri": "https://localhost:8080/"
        },
        "id": "AiiI-oADjP0s",
        "outputId": "ff269fba-8d90-47a1-ae8d-461d9597b950"
      },
      "execution_count": null,
      "outputs": [
        {
          "output_type": "execute_result",
          "data": {
            "text/plain": [
              "2"
            ]
          },
          "metadata": {},
          "execution_count": 9
        }
      ]
    },
    {
      "cell_type": "markdown",
      "source": [
        "# creating a matrix and also giving it data type"
      ],
      "metadata": {
        "id": "oej8wl4Tjv2D"
      }
    },
    {
      "cell_type": "code",
      "source": [
        "matrix2=tf.constant([[11,11],[12,21],[32,32]],dtype=tf.float16)\n",
        "matrix2"
      ],
      "metadata": {
        "colab": {
          "base_uri": "https://localhost:8080/"
        },
        "id": "obDVTZ6Rj1BN",
        "outputId": "0740cea2-5daf-4f22-edd4-13bf82775cbb"
      },
      "execution_count": null,
      "outputs": [
        {
          "output_type": "execute_result",
          "data": {
            "text/plain": [
              "<tf.Tensor: shape=(3, 2), dtype=float16, numpy=\n",
              "array([[11., 11.],\n",
              "       [12., 21.],\n",
              "       [32., 32.]], dtype=float16)>"
            ]
          },
          "metadata": {},
          "execution_count": 10
        }
      ]
    },
    {
      "cell_type": "code",
      "source": [
        "matrix2.ndim"
      ],
      "metadata": {
        "colab": {
          "base_uri": "https://localhost:8080/"
        },
        "id": "SvbW-tdplDAk",
        "outputId": "83085747-a8a6-4395-9c63-f6a3f5c1a43b"
      },
      "execution_count": null,
      "outputs": [
        {
          "output_type": "execute_result",
          "data": {
            "text/plain": [
              "2"
            ]
          },
          "metadata": {},
          "execution_count": 11
        }
      ]
    },
    {
      "cell_type": "markdown",
      "source": [
        "# creatinng a tensor"
      ],
      "metadata": {
        "id": "FPJIpkcok1La"
      }
    },
    {
      "cell_type": "code",
      "source": [
        "tennsor=tf.constant([[[1,2,3],\n",
        "                      [3,2,1],\n",
        "                      [4,5,9]]])\n",
        "tennsor"
      ],
      "metadata": {
        "colab": {
          "base_uri": "https://localhost:8080/"
        },
        "id": "YYlF-nsDk5VV",
        "outputId": "b6f5853a-2a19-49a0-9185-3f735fc55a43"
      },
      "execution_count": null,
      "outputs": [
        {
          "output_type": "execute_result",
          "data": {
            "text/plain": [
              "<tf.Tensor: shape=(1, 3, 3), dtype=int32, numpy=\n",
              "array([[[1, 2, 3],\n",
              "        [3, 2, 1],\n",
              "        [4, 5, 9]]], dtype=int32)>"
            ]
          },
          "metadata": {},
          "execution_count": 12
        }
      ]
    },
    {
      "cell_type": "code",
      "source": [
        "tennsor.ndim"
      ],
      "metadata": {
        "colab": {
          "base_uri": "https://localhost:8080/"
        },
        "id": "i7cHwdjMlomk",
        "outputId": "66f5e0b0-426f-44c5-efe4-09ae9528c9ea"
      },
      "execution_count": null,
      "outputs": [
        {
          "output_type": "execute_result",
          "data": {
            "text/plain": [
              "3"
            ]
          },
          "metadata": {},
          "execution_count": 13
        }
      ]
    },
    {
      "cell_type": "markdown",
      "source": [
        "# Differences\n",
        "* Scaler is a single number\n",
        "* vector is a number with direction\n",
        "* matrix is a 2dimensional array of numbers\n",
        "* tensor is a n (0-infinity) dimension array of numbers\n",
        "\n"
      ],
      "metadata": {
        "id": "X6AJb9qEnmrN"
      }
    },
    {
      "cell_type": "markdown",
      "source": [
        "# Creating tensors with tf.variable\n",
        "We cannot use .ndim with a tf.Variable object, as it does not have that attribute. Instead, use .shape or tf.rank() to get the dimensional information."
      ],
      "metadata": {
        "id": "MwPOdloBoLS2"
      }
    },
    {
      "cell_type": "code",
      "source": [
        "scaler=tf.Variable(20);\n",
        "scaler"
      ],
      "metadata": {
        "colab": {
          "base_uri": "https://localhost:8080/"
        },
        "id": "eorbflCuoZ0m",
        "outputId": "8c11f5bb-134d-4855-e9c4-e7c32ee000c7"
      },
      "execution_count": null,
      "outputs": [
        {
          "output_type": "execute_result",
          "data": {
            "text/plain": [
              "<tf.Variable 'Variable:0' shape=() dtype=int32, numpy=20>"
            ]
          },
          "metadata": {},
          "execution_count": 14
        }
      ]
    },
    {
      "cell_type": "markdown",
      "source": [
        "#Changeb:le vs unchangeble tensors\n"
      ],
      "metadata": {
        "id": "FlI75qUtzg_6"
      }
    },
    {
      "cell_type": "code",
      "source": [
        "changeble_tensor=tf.Variable(10,11);\n",
        "unchangeble=tf.constant(22,11)\n",
        "print(changeble_tensor,unchangeble)\n"
      ],
      "metadata": {
        "colab": {
          "base_uri": "https://localhost:8080/"
        },
        "id": "FLJ0tM2E07PK",
        "outputId": "8be18bd5-cc5c-43be-e522-410f394fe19e"
      },
      "execution_count": null,
      "outputs": [
        {
          "output_type": "stream",
          "name": "stdout",
          "text": [
            "<tf.Variable 'Variable:0' shape=() dtype=int32, numpy=10> tf.Tensor(22, shape=(), dtype=qint8)\n"
          ]
        }
      ]
    },
    {
      "cell_type": "markdown",
      "source": [
        "#tf.assign\n",
        "you cannot modify a tf.Variable like a list (using indexing) directly; tf.Variable objects require methods like .assign() to update values.\n",
        "\n",
        "You cannot modify a tf.constant after it is created because constants are immutable in TensorFlow. Attempting to modify a tf.constant will result in an error"
      ],
      "metadata": {
        "id": "LF2d78WW1HXa"
      }
    },
    {
      "cell_type": "code",
      "source": [
        "changeble_tensor.assign(1,9)"
      ],
      "metadata": {
        "colab": {
          "base_uri": "https://localhost:8080/"
        },
        "id": "AkErOnmx1JT9",
        "outputId": "52faaddb-c379-427a-9c32-9c2e20811ffe"
      },
      "execution_count": null,
      "outputs": [
        {
          "output_type": "execute_result",
          "data": {
            "text/plain": [
              "<tf.Variable 'UnreadVariable' shape=() dtype=int32, numpy=1>"
            ]
          },
          "metadata": {},
          "execution_count": 16
        }
      ]
    },
    {
      "cell_type": "code",
      "source": [
        "changeble_tensor"
      ],
      "metadata": {
        "colab": {
          "base_uri": "https://localhost:8080/"
        },
        "id": "OyXtLRJE1coD",
        "outputId": "029c147b-7bdf-43f5-e797-dd8ea73fc6d3"
      },
      "execution_count": null,
      "outputs": [
        {
          "output_type": "execute_result",
          "data": {
            "text/plain": [
              "<tf.Variable 'Variable:0' shape=() dtype=int32, numpy=1>"
            ]
          },
          "metadata": {},
          "execution_count": 17
        }
      ]
    },
    {
      "cell_type": "markdown",
      "source": [
        "# Creating random tensors\n",
        "* Random Uniform Tensor: Generates random values from a uniform distribution between minval and maxval.\n",
        "** tf.random.uniform(shape, minval, maxval)\n",
        "* Random Normal Tensor: Generates random values from a normal distribution with specified mean and stddev.\n",
        "** tf.random.normal(shape, mean, stddev)\n",
        "* Random Integer Tensor: Generates random integer values between minval and maxval.\n",
        "** tf.random.uniform(shape, minval, maxval, dtype=tf.int32)\n",
        "* Random Binary Tensor: Generates random values of 0 or 1 (binary) within a specified range.\n",
        "** tf.random.uniform(shape, minval, maxval, dtype=tf.int32)"
      ],
      "metadata": {
        "id": "zSq5Tycg2Ooa"
      }
    },
    {
      "cell_type": "markdown",
      "source": [
        "# normal vs uniform\n",
        "* Normal Distribution: Generates values with a bell-shaped curve, where most values are clustered around the mean, and values farther from the mean are less likely.\n",
        "* Uniform Distribution: Generates values evenly spread within a specified range, where every value has an equal probability of being selected."
      ],
      "metadata": {
        "id": "o3iMJodE7jZF"
      }
    },
    {
      "cell_type": "code",
      "source": [
        "random_values1 = tf.random.uniform(shape=(5, 5), minval=0, maxval=10)\n",
        "random_values2=tf.random.normal(shape=(2,2),mean=0,stddev=10)\n",
        "random3=tf.random.uniform(shape=(3,3),minval=9,maxval=50,dtype=tf.int32)\n",
        "random4=tf.random.uniform(shape=(3,3),minval=0,maxval=2,dtype=tf.int32)"
      ],
      "metadata": {
        "id": "3S7K08iy3Gwr"
      },
      "execution_count": null,
      "outputs": []
    },
    {
      "cell_type": "code",
      "source": [
        "print(random_values1)"
      ],
      "metadata": {
        "colab": {
          "base_uri": "https://localhost:8080/"
        },
        "id": "eGz9q0NZ7uJU",
        "outputId": "02ef2dc5-c1fb-4607-ed64-6a35c2144f12"
      },
      "execution_count": null,
      "outputs": [
        {
          "output_type": "stream",
          "name": "stdout",
          "text": [
            "tf.Tensor(\n",
            "[[9.237441   4.3168855  4.3494043  5.2788615  9.518768  ]\n",
            " [0.03773689 3.2934177  8.336596   9.2007675  8.907809  ]\n",
            " [2.9921603  6.041434   8.202704   6.6910005  2.9892826 ]\n",
            " [8.629838   0.9334433  5.3337803  4.9628854  6.992669  ]\n",
            " [2.9307961  4.7181406  6.135708   9.763932   0.8141303 ]], shape=(5, 5), dtype=float32)\n"
          ]
        }
      ]
    },
    {
      "cell_type": "code",
      "source": [
        "print(random_values2)"
      ],
      "metadata": {
        "colab": {
          "base_uri": "https://localhost:8080/"
        },
        "id": "DblSpnqg70Jk",
        "outputId": "2fd59b8a-98f9-457a-c3e2-7c0f50329ed2"
      },
      "execution_count": null,
      "outputs": [
        {
          "output_type": "stream",
          "name": "stdout",
          "text": [
            "tf.Tensor(\n",
            "[[ -4.352831   11.108933 ]\n",
            " [ -3.8422446 -13.65526  ]], shape=(2, 2), dtype=float32)\n"
          ]
        }
      ]
    },
    {
      "cell_type": "code",
      "source": [
        "print(random3)"
      ],
      "metadata": {
        "colab": {
          "base_uri": "https://localhost:8080/"
        },
        "id": "eImKe0UA8Ked",
        "outputId": "23498025-b8b5-4408-e6c9-10fd4627c2da"
      },
      "execution_count": null,
      "outputs": [
        {
          "output_type": "stream",
          "name": "stdout",
          "text": [
            "tf.Tensor(\n",
            "[[19 11 34]\n",
            " [38 44 12]\n",
            " [34 38 13]], shape=(3, 3), dtype=int32)\n"
          ]
        }
      ]
    },
    {
      "cell_type": "code",
      "source": [
        "print(random4)"
      ],
      "metadata": {
        "colab": {
          "base_uri": "https://localhost:8080/"
        },
        "id": "CSmOeOEz84Vt",
        "outputId": "e8541c91-2ee9-44ea-e80c-e51caa8b9909"
      },
      "execution_count": null,
      "outputs": [
        {
          "output_type": "stream",
          "name": "stdout",
          "text": [
            "tf.Tensor(\n",
            "[[0 0 0]\n",
            " [0 0 1]\n",
            " [1 1 1]], shape=(3, 3), dtype=int32)\n"
          ]
        }
      ]
    },
    {
      "cell_type": "markdown",
      "source": [
        "# tf.random.Generator.from.seed()\n",
        "* Definition: tf.random.Generator.from_seed() initializes a TensorFlow RNG with a specified seed value.\n",
        "* Why Use: It ensures reproducibility of random numbers, making experiments consistent across multiple runs.\n",
        "* When to Use: Use it when you need deterministic random behavior for debugging, research, or when random operations must be replicated exactly."
      ],
      "metadata": {
        "id": "nglMCsWj-n3N"
      }
    },
    {
      "cell_type": "code",
      "source": [
        "import tensorflow as tf\n",
        "\n",
        "# Create a random generator with a seed\n",
        "rng = tf.random.Generator.from_seed(42)\n",
        "\n",
        "# Generate random integers between minval (-1) and maxval (4)\n",
        "random_integers = rng.uniform(shape=(2, 2), minval=1, maxval=4, dtype=tf.int32)\n",
        "\n",
        "print(\"Random Integers:\")\n",
        "print(random_integers)\n"
      ],
      "metadata": {
        "colab": {
          "base_uri": "https://localhost:8080/"
        },
        "id": "bwZjZYLb9jBe",
        "outputId": "e87dfa73-a4ee-4eef-fe21-c91ce8b4233a"
      },
      "execution_count": null,
      "outputs": [
        {
          "output_type": "stream",
          "name": "stdout",
          "text": [
            "Random Integers:\n",
            "tf.Tensor(\n",
            "[[1 1]\n",
            " [1 1]], shape=(2, 2), dtype=int32)\n"
          ]
        }
      ]
    },
    {
      "cell_type": "markdown",
      "source": [
        "# Shuffling elements of tensors\n",
        "reason is that if some type of data is contnuous i would impact the over all prediction of our model so inorder to solve it we need to schufle our tensors\n"
      ],
      "metadata": {
        "id": "hFu5FX8pAEx1"
      }
    },
    {
      "cell_type": "code",
      "source": [
        "not_shufle=tf.constant([[10,7],[9,10],[11,10]])\n",
        "not_shufle.ndim"
      ],
      "metadata": {
        "colab": {
          "base_uri": "https://localhost:8080/"
        },
        "id": "a14awdqU__ec",
        "outputId": "3bbba0e3-11c7-46d0-9d1a-89c5fb522696"
      },
      "execution_count": null,
      "outputs": [
        {
          "output_type": "execute_result",
          "data": {
            "text/plain": [
              "2"
            ]
          },
          "metadata": {},
          "execution_count": 24
        }
      ]
    },
    {
      "cell_type": "markdown",
      "source": [
        "# tf.random.shuffle(name of tensor)"
      ],
      "metadata": {
        "id": "GDZBpyegUlMH"
      }
    },
    {
      "cell_type": "code",
      "source": [
        "shufled_tensor=tf.random.shuffle(not_shufle)"
      ],
      "metadata": {
        "id": "985dN7wXU347"
      },
      "execution_count": null,
      "outputs": []
    },
    {
      "cell_type": "code",
      "source": [
        "print(\"non shuffle tensor \",not_shufle)"
      ],
      "metadata": {
        "colab": {
          "base_uri": "https://localhost:8080/"
        },
        "id": "WrST8tzVVKMc",
        "outputId": "d2ceb010-e801-495b-b2a9-5b5046c64639"
      },
      "execution_count": null,
      "outputs": [
        {
          "output_type": "stream",
          "name": "stdout",
          "text": [
            "non shuffle tensor  tf.Tensor(\n",
            "[[10  7]\n",
            " [ 9 10]\n",
            " [11 10]], shape=(3, 2), dtype=int32)\n"
          ]
        }
      ]
    },
    {
      "cell_type": "code",
      "source": [
        "print(\"shuffled tensor \",shufled_tensor)"
      ],
      "metadata": {
        "colab": {
          "base_uri": "https://localhost:8080/"
        },
        "id": "t7l3z7FXVY2L",
        "outputId": "a9d891c8-d3f3-4930-85e3-3c8038dd581a"
      },
      "execution_count": null,
      "outputs": [
        {
          "output_type": "stream",
          "name": "stdout",
          "text": [
            "shuffled tensor  tf.Tensor(\n",
            "[[ 9 10]\n",
            " [10  7]\n",
            " [11 10]], shape=(3, 2), dtype=int32)\n"
          ]
        }
      ]
    },
    {
      "cell_type": "markdown",
      "source": [
        "# TENSORFLOW OPERATION SIMLAR TO NUMPY\n"
      ],
      "metadata": {
        "id": "tRKUg3U3Zvfl"
      }
    },
    {
      "cell_type": "code",
      "source": [
        "tf.ones([7,7])"
      ],
      "metadata": {
        "colab": {
          "base_uri": "https://localhost:8080/"
        },
        "id": "El91EMDsaA2-",
        "outputId": "ef5e8d8b-04dd-4189-9320-61412851a8fe"
      },
      "execution_count": null,
      "outputs": [
        {
          "output_type": "execute_result",
          "data": {
            "text/plain": [
              "<tf.Tensor: shape=(7, 7), dtype=float32, numpy=\n",
              "array([[1., 1., 1., 1., 1., 1., 1.],\n",
              "       [1., 1., 1., 1., 1., 1., 1.],\n",
              "       [1., 1., 1., 1., 1., 1., 1.],\n",
              "       [1., 1., 1., 1., 1., 1., 1.],\n",
              "       [1., 1., 1., 1., 1., 1., 1.],\n",
              "       [1., 1., 1., 1., 1., 1., 1.],\n",
              "       [1., 1., 1., 1., 1., 1., 1.]], dtype=float32)>"
            ]
          },
          "metadata": {},
          "execution_count": 28
        }
      ]
    },
    {
      "cell_type": "code",
      "source": [
        "tf.zeros([8,4])"
      ],
      "metadata": {
        "colab": {
          "base_uri": "https://localhost:8080/"
        },
        "id": "ybSlmSAyaG8t",
        "outputId": "1cc5ff20-98ca-49ab-c106-2d05a8016c1f"
      },
      "execution_count": null,
      "outputs": [
        {
          "output_type": "execute_result",
          "data": {
            "text/plain": [
              "<tf.Tensor: shape=(8, 4), dtype=float32, numpy=\n",
              "array([[0., 0., 0., 0.],\n",
              "       [0., 0., 0., 0.],\n",
              "       [0., 0., 0., 0.],\n",
              "       [0., 0., 0., 0.],\n",
              "       [0., 0., 0., 0.],\n",
              "       [0., 0., 0., 0.],\n",
              "       [0., 0., 0., 0.],\n",
              "       [0., 0., 0., 0.]], dtype=float32)>"
            ]
          },
          "metadata": {},
          "execution_count": 29
        }
      ]
    },
    {
      "cell_type": "markdown",
      "source": [
        "### Turnning numpy arrays into tensors\n",
        "The main difference between numpy arrays and tenosrflow tensors is that tensors run faster on gpu"
      ],
      "metadata": {
        "id": "rdrMI3JjaqBm"
      }
    },
    {
      "cell_type": "code",
      "source": [
        "import numpy as np"
      ],
      "metadata": {
        "id": "wEIFy4oZb2d-"
      },
      "execution_count": null,
      "outputs": []
    },
    {
      "cell_type": "code",
      "source": [
        "numpy_a=np.arange(0,30,dtype=np.int32)\n",
        "numpy_a"
      ],
      "metadata": {
        "colab": {
          "base_uri": "https://localhost:8080/"
        },
        "id": "NyVEGG6Yb8MV",
        "outputId": "31c212be-c285-471b-dccf-8d89dd6a6e16"
      },
      "execution_count": null,
      "outputs": [
        {
          "output_type": "execute_result",
          "data": {
            "text/plain": [
              "array([ 0,  1,  2,  3,  4,  5,  6,  7,  8,  9, 10, 11, 12, 13, 14, 15, 16,\n",
              "       17, 18, 19, 20, 21, 22, 23, 24, 25, 26, 27, 28, 29], dtype=int32)"
            ]
          },
          "metadata": {},
          "execution_count": 31
        }
      ]
    },
    {
      "cell_type": "code",
      "source": [
        "a=tf.constant(numpy_a,shape=(6,5)) # make sure the nsize is equal to number of elements in our case 30 elements so 6*5 or %*6 or 3*2 *5\n",
        "a"
      ],
      "metadata": {
        "colab": {
          "base_uri": "https://localhost:8080/"
        },
        "id": "_1Bb8bIbcPI3",
        "outputId": "33f46496-c8d7-41b9-df40-6d4459ac3711"
      },
      "execution_count": null,
      "outputs": [
        {
          "output_type": "execute_result",
          "data": {
            "text/plain": [
              "<tf.Tensor: shape=(6, 5), dtype=int32, numpy=\n",
              "array([[ 0,  1,  2,  3,  4],\n",
              "       [ 5,  6,  7,  8,  9],\n",
              "       [10, 11, 12, 13, 14],\n",
              "       [15, 16, 17, 18, 19],\n",
              "       [20, 21, 22, 23, 24],\n",
              "       [25, 26, 27, 28, 29]], dtype=int32)>"
            ]
          },
          "metadata": {},
          "execution_count": 32
        }
      ]
    },
    {
      "cell_type": "markdown",
      "source": [
        "### Geting information from tensors\n",
        "\n",
        "* Shape tensor.shape :-> number of elements of each dimension of tensor\n",
        "* Rank tf.rank(tensor) :-> number of tensor dimensions.\n",
        "* axis or dimension tensor[0].numpy(),tensor[:,1] :-> a perticular dimesnion of tensor\n",
        "* size tf.size(tensor) :-> number of elements in tensor\n"
      ],
      "metadata": {
        "id": "LBQX_fRCdc_3"
      }
    },
    {
      "cell_type": "code",
      "source": [
        "t1=tf.Variable([[2,4],[7,9],[20,20]])"
      ],
      "metadata": {
        "id": "uZ3dXaOhc9ff"
      },
      "execution_count": null,
      "outputs": []
    },
    {
      "cell_type": "code",
      "source": [
        "print(\"Shape of tensor is \",t1.shape)\n",
        "print(\"Rank of tensor\",tf.rank(t1))\n",
        "print(\"first row \", t1[0].numpy())"
      ],
      "metadata": {
        "colab": {
          "base_uri": "https://localhost:8080/"
        },
        "id": "1wwr4gXH2TZA",
        "outputId": "6e880e69-2ddf-4a0d-b332-0d1ab5e99753"
      },
      "execution_count": null,
      "outputs": [
        {
          "output_type": "stream",
          "name": "stdout",
          "text": [
            "Shape of tensor is  (3, 2)\n",
            "Rank of tensor tf.Tensor(2, shape=(), dtype=int32)\n",
            "asis 0 and axis 1,1 is [2 4]\n"
          ]
        }
      ]
    },
    {
      "cell_type": "code",
      "source": [
        "print(\"second row \",t1[1].numpy())"
      ],
      "metadata": {
        "colab": {
          "base_uri": "https://localhost:8080/"
        },
        "id": "AI956yL125ii",
        "outputId": "5d0192b9-e78f-4c51-e770-f3fb8f11af07"
      },
      "execution_count": null,
      "outputs": [
        {
          "output_type": "stream",
          "name": "stdout",
          "text": [
            "second row  [7 9]\n"
          ]
        }
      ]
    },
    {
      "cell_type": "code",
      "source": [
        "print(\"first element \",t1[0,0].numpy())\n",
        "print(\"last element \",t1[2,1].numpy())"
      ],
      "metadata": {
        "colab": {
          "base_uri": "https://localhost:8080/"
        },
        "id": "kzSo69b-5eBf",
        "outputId": "c9af0b32-839e-4e4d-bc57-f3011217e18b"
      },
      "execution_count": null,
      "outputs": [
        {
          "output_type": "stream",
          "name": "stdout",
          "text": [
            "first element  2\n",
            "last element  20\n"
          ]
        }
      ]
    },
    {
      "cell_type": "code",
      "source": [
        "print(\"size of tensor is \",tf.size(1))"
      ],
      "metadata": {
        "colab": {
          "base_uri": "https://localhost:8080/"
        },
        "id": "FUHr4pIb61i3",
        "outputId": "ae7d0f20-9e93-4bc7-ac75-a53a9b274f04"
      },
      "execution_count": null,
      "outputs": [
        {
          "output_type": "stream",
          "name": "stdout",
          "text": [
            "size of tensor is  tf.Tensor(1, shape=(), dtype=int32)\n"
          ]
        }
      ]
    },
    {
      "cell_type": "markdown",
      "source": [
        "# Issue with tf.size on tf.varaible\n",
        "* The issue you're seeing, where tf.size(t1) prints 1, is because t1 is a tf.Variable and tf.size behaves differently when applied directly to a tf.Variable in some contexts.\n",
        "\n",
        "* To correctly obtain the number of elements in a tf.Variable, you should first convert it into a TensorFlow tensor (if necessary) and then compute the size using tf.size()."
      ],
      "metadata": {
        "id": "A299bSGU7c7G"
      }
    },
    {
      "cell_type": "code",
      "source": [
        "size=tf.size(t1) # tf.size(t1).numpy()\n",
        "print(\"size of tensor is \",size.numpy())"
      ],
      "metadata": {
        "colab": {
          "base_uri": "https://localhost:8080/"
        },
        "id": "jt-qfWtJ7hpZ",
        "outputId": "3314b371-f57b-42b3-d90f-27ca2f44b90c"
      },
      "execution_count": null,
      "outputs": [
        {
          "output_type": "stream",
          "name": "stdout",
          "text": [
            "size of tensor is  6\n"
          ]
        }
      ]
    },
    {
      "cell_type": "code",
      "source": [
        "print(\"datatype is \",t1.dtype)"
      ],
      "metadata": {
        "colab": {
          "base_uri": "https://localhost:8080/"
        },
        "id": "lJ6akA0j8tG3",
        "outputId": "4304ebcd-520e-4dd9-ddb2-17977fd3aa60"
      },
      "execution_count": null,
      "outputs": [
        {
          "output_type": "stream",
          "name": "stdout",
          "text": [
            "datatype is  <dtype: 'int32'>\n"
          ]
        }
      ]
    },
    {
      "cell_type": "markdown",
      "source": [
        "# Indexing tensors NUMPY WAY\n",
        "* tensors can be indexed just like python lists\n"
      ],
      "metadata": {
        "id": "BigP4K5dAYb4"
      }
    },
    {
      "cell_type": "code",
      "source": [
        "# getting first two elements of each dimension\n",
        "t2=tf.Variable([[2,2,4],[3,3,4],[8,0,9]])\n",
        "print(\"first two elemets of first dimenson are as \",t2[0,0].numpy(),t2[0,1].numpy())\n",
        "print(\"first two elemets of second dimenson are as \",t2[1,0].numpy(),t2[1,1].numpy())\n",
        "print(\"first two elemets of third dimenson are as \",t2[2,0].numpy(),t2[2,1].numpy())"
      ],
      "metadata": {
        "colab": {
          "base_uri": "https://localhost:8080/"
        },
        "id": "N0fME_B-Akln",
        "outputId": "9ae1e35f-5f3d-478c-f50c-7e9653fdb8e5"
      },
      "execution_count": null,
      "outputs": [
        {
          "output_type": "stream",
          "name": "stdout",
          "text": [
            "first two elemets of first dimenson are as  2 2\n",
            "first two elemets of second dimenson are as  3 3\n",
            "first two elemets of third dimenson are as  8 0\n"
          ]
        }
      ]
    },
    {
      "cell_type": "markdown",
      "source": [
        "# TENSOR WAY"
      ],
      "metadata": {
        "id": "1iECOUArDO1m"
      }
    },
    {
      "cell_type": "code",
      "source": [
        "print(t2[:2,:2])"
      ],
      "metadata": {
        "colab": {
          "base_uri": "https://localhost:8080/"
        },
        "id": "L2erPLgEDA8Y",
        "outputId": "527e42ed-9cf0-4014-a226-c84707884b05"
      },
      "execution_count": null,
      "outputs": [
        {
          "output_type": "stream",
          "name": "stdout",
          "text": [
            "tf.Tensor(\n",
            "[[2 2]\n",
            " [3 3]], shape=(2, 2), dtype=int32)\n"
          ]
        }
      ]
    },
    {
      "cell_type": "code",
      "source": [
        "# get the first element from each dimension from each index except for the final one\n",
        "print(t2[:2:2])\n"
      ],
      "metadata": {
        "colab": {
          "base_uri": "https://localhost:8080/"
        },
        "id": "iPnuDpEjEKTg",
        "outputId": "e2b92eb1-97cf-464f-9bbd-90b9757866e6"
      },
      "execution_count": null,
      "outputs": [
        {
          "output_type": "stream",
          "name": "stdout",
          "text": [
            "tf.Tensor([[2]], shape=(1, 1), dtype=int32)\n"
          ]
        }
      ]
    },
    {
      "cell_type": "code",
      "source": [
        "# geting the last element of each dimension from tensor\n",
        "t3=tf.constant([[2,2],[3,4]])\n",
        "print(\"last element of each dimenson of tensor are as \",t3[:,:-1])\n"
      ],
      "metadata": {
        "colab": {
          "base_uri": "https://localhost:8080/"
        },
        "id": "zOmkf9tkEfVf",
        "outputId": "dacfd938-d719-41ab-d607-6026870bba1b"
      },
      "execution_count": null,
      "outputs": [
        {
          "output_type": "stream",
          "name": "stdout",
          "text": [
            "last element of each dimenson of tensor are as  tf.Tensor(\n",
            "[[2]\n",
            " [3]], shape=(2, 1), dtype=int32)\n"
          ]
        }
      ]
    },
    {
      "cell_type": "markdown",
      "source": [
        "# Expanding of tensors"
      ],
      "metadata": {
        "id": "P2XA_FPkKaOW"
      }
    },
    {
      "cell_type": "code",
      "source": [
        "t4=tf.Variable([[8,8],[9,9]])\n",
        "t4=t3[...,tf.newaxis]\n",
        "print(t4)"
      ],
      "metadata": {
        "colab": {
          "base_uri": "https://localhost:8080/"
        },
        "id": "GGbtBeGcKeJ_",
        "outputId": "337033c3-3a79-43e2-e58d-e549f4bbec4b"
      },
      "execution_count": null,
      "outputs": [
        {
          "output_type": "stream",
          "name": "stdout",
          "text": [
            "tf.Tensor(\n",
            "[[[2]\n",
            "  [2]]\n",
            "\n",
            " [[3]\n",
            "  [4]]], shape=(2, 2, 1), dtype=int32)\n"
          ]
        }
      ]
    },
    {
      "cell_type": "markdown",
      "source": [
        "# Alternative way\n"
      ],
      "metadata": {
        "id": "FB7X6IrqOBxI"
      }
    },
    {
      "cell_type": "code",
      "source": [
        "tf.expand_dims(t4,axis=-1)# in the end extra dimension"
      ],
      "metadata": {
        "colab": {
          "base_uri": "https://localhost:8080/"
        },
        "id": "T6igl5RjOEsG",
        "outputId": "ac824871-b64b-450a-9585-7aead782ad5f"
      },
      "execution_count": null,
      "outputs": [
        {
          "output_type": "execute_result",
          "data": {
            "text/plain": [
              "<tf.Tensor: shape=(2, 2, 1, 1), dtype=int32, numpy=\n",
              "array([[[[2]],\n",
              "\n",
              "        [[2]]],\n",
              "\n",
              "\n",
              "       [[[3]],\n",
              "\n",
              "        [[4]]]], dtype=int32)>"
            ]
          },
          "metadata": {},
          "execution_count": 72
        }
      ]
    },
    {
      "cell_type": "code",
      "source": [
        "tf.expand_dims(t4,axis=0) # in the in the start"
      ],
      "metadata": {
        "colab": {
          "base_uri": "https://localhost:8080/"
        },
        "id": "2dKtgSQ1Oey-",
        "outputId": "a48b10dc-a5ed-41fd-c4b4-904a66e91da7"
      },
      "execution_count": null,
      "outputs": [
        {
          "output_type": "execute_result",
          "data": {
            "text/plain": [
              "<tf.Tensor: shape=(1, 2, 2, 1), dtype=int32, numpy=\n",
              "array([[[[2],\n",
              "         [2]],\n",
              "\n",
              "        [[3],\n",
              "         [4]]]], dtype=int32)>"
            ]
          },
          "metadata": {},
          "execution_count": 73
        }
      ]
    },
    {
      "cell_type": "code",
      "source": [
        "tf.expand_dims(t4,axis=1) # in the middle"
      ],
      "metadata": {
        "colab": {
          "base_uri": "https://localhost:8080/"
        },
        "id": "RQtDELkKOmSm",
        "outputId": "26225723-7c34-4cd6-c652-bbf1931b8dc2"
      },
      "execution_count": null,
      "outputs": [
        {
          "output_type": "execute_result",
          "data": {
            "text/plain": [
              "<tf.Tensor: shape=(2, 1, 2, 1), dtype=int32, numpy=\n",
              "array([[[[2],\n",
              "         [2]]],\n",
              "\n",
              "\n",
              "       [[[3],\n",
              "         [4]]]], dtype=int32)>"
            ]
          },
          "metadata": {},
          "execution_count": 76
        }
      ]
    },
    {
      "cell_type": "markdown",
      "source": [
        "#Manipulation of Tensors\n",
        "\n",
        "## Basic operation\n",
        "\n",
        "*  +, -, /, *"
      ],
      "metadata": {
        "id": "bjuANdl7PPZI"
      }
    },
    {
      "cell_type": "code",
      "source": [
        "# addition\n",
        "tensor =tf.constant([[10,7],[3,4]])\n",
        "tensor = tensor+10\n",
        "tensor"
      ],
      "metadata": {
        "colab": {
          "base_uri": "https://localhost:8080/"
        },
        "id": "XpNf5GzEPSpf",
        "outputId": "90333828-bbf0-46d2-a9e1-e44159b8a335"
      },
      "execution_count": null,
      "outputs": [
        {
          "output_type": "execute_result",
          "data": {
            "text/plain": [
              "<tf.Tensor: shape=(2, 2), dtype=int32, numpy=\n",
              "array([[20, 17],\n",
              "       [13, 14]], dtype=int32)>"
            ]
          },
          "metadata": {},
          "execution_count": 81
        }
      ]
    },
    {
      "cell_type": "code",
      "source": [
        "# subtraction\n",
        "tensor=tensor-10\n",
        "tensor\n"
      ],
      "metadata": {
        "colab": {
          "base_uri": "https://localhost:8080/"
        },
        "id": "RH6T5Ak-TMh4",
        "outputId": "7f593d52-24b3-45bf-e408-83ac744c9bea"
      },
      "execution_count": null,
      "outputs": [
        {
          "output_type": "execute_result",
          "data": {
            "text/plain": [
              "<tf.Tensor: shape=(2, 2), dtype=int32, numpy=\n",
              "array([[10,  7],\n",
              "       [ 3,  4]], dtype=int32)>"
            ]
          },
          "metadata": {},
          "execution_count": 82
        }
      ]
    },
    {
      "cell_type": "code",
      "source": [
        "# Multiplication\n",
        "tensor =tensor*10\n",
        "tensor"
      ],
      "metadata": {
        "colab": {
          "base_uri": "https://localhost:8080/"
        },
        "id": "h9sCn59NThUG",
        "outputId": "fc7a5365-ab3a-4c6f-a080-264b9ab72078"
      },
      "execution_count": null,
      "outputs": [
        {
          "output_type": "execute_result",
          "data": {
            "text/plain": [
              "<tf.Tensor: shape=(2, 2), dtype=int32, numpy=\n",
              "array([[100,  70],\n",
              "       [ 30,  40]], dtype=int32)>"
            ]
          },
          "metadata": {},
          "execution_count": 83
        }
      ]
    },
    {
      "cell_type": "code",
      "source": [
        "# division\n",
        "tensor =tensor/10\n",
        "tensor"
      ],
      "metadata": {
        "colab": {
          "base_uri": "https://localhost:8080/"
        },
        "id": "5YSwSabzTqi-",
        "outputId": "f92ce6f0-5943-4153-8ded-e61e2179332d"
      },
      "execution_count": null,
      "outputs": [
        {
          "output_type": "execute_result",
          "data": {
            "text/plain": [
              "<tf.Tensor: shape=(2, 2), dtype=float64, numpy=\n",
              "array([[10.,  7.],\n",
              "       [ 3.,  4.]])>"
            ]
          },
          "metadata": {},
          "execution_count": 84
        }
      ]
    },
    {
      "cell_type": "markdown",
      "source": [
        "# using pre built functions or basic operations"
      ],
      "metadata": {
        "id": "0CF6Pw-gVHZO"
      }
    },
    {
      "cell_type": "code",
      "source": [
        "tensor2=tf.constant([[2,4],[9,18]])\n",
        "tensor2=tf.multiply(tensor2,10)\n",
        "tensor2"
      ],
      "metadata": {
        "colab": {
          "base_uri": "https://localhost:8080/"
        },
        "id": "tdePMLabTzX-",
        "outputId": "73be6772-2d43-4b01-aa66-312683b264ea"
      },
      "execution_count": null,
      "outputs": [
        {
          "output_type": "execute_result",
          "data": {
            "text/plain": [
              "<tf.Tensor: shape=(2, 2), dtype=int32, numpy=\n",
              "array([[ 20,  40],\n",
              "       [ 90, 180]], dtype=int32)>"
            ]
          },
          "metadata": {},
          "execution_count": 88
        }
      ]
    },
    {
      "cell_type": "code",
      "source": [
        "tensor2=tf.add(tensor2,20)\n",
        "tensor2"
      ],
      "metadata": {
        "colab": {
          "base_uri": "https://localhost:8080/"
        },
        "id": "Oiwj01LrVZv-",
        "outputId": "1378f43e-8bbf-4464-cad6-48a33e8ef13d"
      },
      "execution_count": null,
      "outputs": [
        {
          "output_type": "execute_result",
          "data": {
            "text/plain": [
              "<tf.Tensor: shape=(2, 2), dtype=int32, numpy=\n",
              "array([[ 40,  60],\n",
              "       [110, 200]], dtype=int32)>"
            ]
          },
          "metadata": {},
          "execution_count": 89
        }
      ]
    },
    {
      "cell_type": "code",
      "source": [
        "tensor2=tf.subtract(tensor2,10)\n",
        "tensor2"
      ],
      "metadata": {
        "colab": {
          "base_uri": "https://localhost:8080/"
        },
        "id": "mUJGdNNgVhGj",
        "outputId": "e1778e75-a23e-431d-eade-bce2f6e93ddd"
      },
      "execution_count": null,
      "outputs": [
        {
          "output_type": "execute_result",
          "data": {
            "text/plain": [
              "<tf.Tensor: shape=(2, 2), dtype=int32, numpy=\n",
              "array([[ 30,  50],\n",
              "       [100, 190]], dtype=int32)>"
            ]
          },
          "metadata": {},
          "execution_count": 90
        }
      ]
    },
    {
      "cell_type": "code",
      "source": [
        "tensor2=tf.divide(tensor2,10)\n",
        "tensor2"
      ],
      "metadata": {
        "colab": {
          "base_uri": "https://localhost:8080/"
        },
        "id": "eVCE-XbhVn0P",
        "outputId": "5b97a10d-aa59-4a3d-eca6-8d3ce790f75f"
      },
      "execution_count": null,
      "outputs": [
        {
          "output_type": "execute_result",
          "data": {
            "text/plain": [
              "<tf.Tensor: shape=(2, 2), dtype=float64, numpy=\n",
              "array([[ 3.,  5.],\n",
              "       [10., 19.]])>"
            ]
          },
          "metadata": {},
          "execution_count": 91
        }
      ]
    }
  ]
}
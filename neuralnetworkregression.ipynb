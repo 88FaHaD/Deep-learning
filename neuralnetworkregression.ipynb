{
  "nbformat": 4,
  "nbformat_minor": 0,
  "metadata": {
    "colab": {
      "provenance": [],
      "authorship_tag": "ABX9TyO6ODXG6NrPX4XtHE4ZI2uu",
      "include_colab_link": true
    },
    "kernelspec": {
      "name": "python3",
      "display_name": "Python 3"
    },
    "language_info": {
      "name": "python"
    }
  },
  "cells": [
    {
      "cell_type": "markdown",
      "metadata": {
        "id": "view-in-github",
        "colab_type": "text"
      },
      "source": [
        "<a href=\"https://colab.research.google.com/github/88FaHaD/Deep-learning/blob/main/neuralnetworkregression.ipynb\" target=\"_parent\"><img src=\"https://colab.research.google.com/assets/colab-badge.svg\" alt=\"Open In Colab\"/></a>"
      ]
    },
    {
      "cell_type": "markdown",
      "source": [
        "# Regression problem\n",
        "deals with predicting a number.\n",
        "* how much will a  house sell for ?\n",
        "* how many people will buy ths app ?\n",
        "* how much will my health insuarance be ?\n",
        "* how much should i save each week for fuel ?\n",
        "\n",
        "also can be used to predict the cordniates of where the boxes should be in an object detection problem\n",
        "\n",
        "# Regression in Machine Learning\n",
        "\n",
        "It is a supervised machine learning technique, used to predict the value of the dependent variable for new, unseen data. It models the relationship between the input features and the target variable, allowing for the estimation or prediction of numerical values."
      ],
      "metadata": {
        "id": "2n9OhRRHYSth"
      }
    },
    {
      "cell_type": "code",
      "execution_count": 1,
      "metadata": {
        "id": "FgoWqgnPYEwA"
      },
      "outputs": [],
      "source": [
        "import tensorflow as tf\n",
        "import numpy as np\n",
        "import matplotlib.pyplot as plt"
      ]
    },
    {
      "cell_type": "code",
      "source": [
        "print(tf.__version__)"
      ],
      "metadata": {
        "colab": {
          "base_uri": "https://localhost:8080/"
        },
        "id": "MApGLtdVjmUW",
        "outputId": "9afe2c74-96d3-4451-f0df-fb62d3588b79"
      },
      "execution_count": 2,
      "outputs": [
        {
          "output_type": "stream",
          "name": "stdout",
          "text": [
            "2.17.1\n"
          ]
        }
      ]
    },
    {
      "cell_type": "markdown",
      "source": [
        "# Creating data\n"
      ],
      "metadata": {
        "id": "7A41Htp9j8rF"
      }
    },
    {
      "cell_type": "code",
      "source": [
        "# creating data\n",
        "x=np.array([1.0,4.0,7.0,10.0,13.0,16.0,19.0,22.0])\n",
        "# creating label\n",
        "y=np.array([11.0,14.0,17.0,20.0,23.0,26.0,29.0,32.0])\n",
        "# visualize it\n",
        "plt.scatter(x,y)"
      ],
      "metadata": {
        "colab": {
          "base_uri": "https://localhost:8080/",
          "height": 447
        },
        "id": "Giiw0Wqjjx49",
        "outputId": "887373c0-b2b7-4a41-dc6d-6bb069a0ce9d"
      },
      "execution_count": 3,
      "outputs": [
        {
          "output_type": "execute_result",
          "data": {
            "text/plain": [
              "<matplotlib.collections.PathCollection at 0x7d510adaee90>"
            ]
          },
          "metadata": {},
          "execution_count": 3
        },
        {
          "output_type": "display_data",
          "data": {
            "text/plain": [
              "<Figure size 640x480 with 1 Axes>"
            ],
            "image/png": "[encoded data removed]"
          },
          "metadata": {}
        }
      ]
    },
    {
      "cell_type": "code",
      "source": [
        "y==x+10"
      ],
      "metadata": {
        "colab": {
          "base_uri": "https://localhost:8080/"
        },
        "id": "VdhFQ3HIll8-",
        "outputId": "a618997f-430f-4fde-ca27-2e14a52a0351"
      },
      "execution_count": 4,
      "outputs": [
        {
          "output_type": "execute_result",
          "data": {
            "text/plain": [
              "array([ True,  True,  True,  True,  True,  True,  True,  True])"
            ]
          },
          "metadata": {},
          "execution_count": 4
        }
      ]
    },
    {
      "cell_type": "code",
      "source": [
        "x.shape,y.shape"
      ],
      "metadata": {
        "colab": {
          "base_uri": "https://localhost:8080/"
        },
        "id": "x59ukeZblwXF",
        "outputId": "0f65f5be-e6e9-4e94-f9f6-e4bb5b0927bd"
      },
      "execution_count": 5,
      "outputs": [
        {
          "output_type": "execute_result",
          "data": {
            "text/plain": [
              "((8,), (8,))"
            ]
          },
          "metadata": {},
          "execution_count": 5
        }
      ]
    },
    {
      "cell_type": "code",
      "source": [
        "# converting numpy values to tensors\n",
        "x=tf.constant(x)\n",
        "y=tf.constant(y)\n",
        "x,y"
      ],
      "metadata": {
        "colab": {
          "base_uri": "https://localhost:8080/"
        },
        "id": "SK0deDEYm7fO",
        "outputId": "102ea0dc-e9f0-4fb6-b0f9-651e32072dfb"
      },
      "execution_count": 6,
      "outputs": [
        {
          "output_type": "execute_result",
          "data": {
            "text/plain": [
              "(<tf.Tensor: shape=(8,), dtype=float64, numpy=array([ 1.,  4.,  7., 10., 13., 16., 19., 22.])>,\n",
              " <tf.Tensor: shape=(8,), dtype=float64, numpy=array([11., 14., 17., 20., 23., 26., 29., 32.])>)"
            ]
          },
          "metadata": {},
          "execution_count": 6
        }
      ]
    },
    {
      "cell_type": "code",
      "source": [
        "x[0].shape,y[0].shape"
      ],
      "metadata": {
        "colab": {
          "base_uri": "https://localhost:8080/"
        },
        "id": "5xX3yRQ8nTTO",
        "outputId": "84a781dd-b72d-4bda-bc6a-a255518b36bf"
      },
      "execution_count": 7,
      "outputs": [
        {
          "output_type": "execute_result",
          "data": {
            "text/plain": [
              "(TensorShape([]), TensorShape([]))"
            ]
          },
          "metadata": {},
          "execution_count": 7
        }
      ]
    },
    {
      "cell_type": "code",
      "source": [
        "plt.scatter(x,y)"
      ],
      "metadata": {
        "colab": {
          "base_uri": "https://localhost:8080/",
          "height": 447
        },
        "id": "DDqeVE2gnhCV",
        "outputId": "79a61af8-75ea-4e4a-bc7f-500bb3f7a60e"
      },
      "execution_count": 8,
      "outputs": [
        {
          "output_type": "execute_result",
          "data": {
            "text/plain": [
              "<matplotlib.collections.PathCollection at 0x7d5108d01f60>"
            ]
          },
          "metadata": {},
          "execution_count": 8
        },
        {
          "output_type": "display_data",
          "data": {
            "text/plain": [
              "<Figure size 640x480 with 1 Axes>"
            ],
            "image/png": "[encoded data removed]"
          },
          "metadata": {}
        }
      ]
    },
    {
      "cell_type": "markdown",
      "source": [
        "# 1. **Create the model**\n",
        "define input layer ,hidden layers and output layer.\n",
        "# 2. **Compiling the model**\n",
        "define the loss function,optimizer and learning rate and evaluation metrics\n",
        "\n",
        "# 3. **Fitting the model**\n",
        "leting the model to find relation between x and y\n"
      ],
      "metadata": {
        "id": "G8SUSt2rnrB1"
      }
    },
    {
      "cell_type": "markdown",
      "source": [
        " We need to increase the dimension to match the input format expected by the neural network, where each sample must have its own set of features in a 2D array\n",
        " (samples, features)."
      ],
      "metadata": {
        "id": "Xl_ur0kkwNEF"
      }
    },
    {
      "cell_type": "code",
      "source": [
        "x=tf.expand_dims(x,axis=-1)"
      ],
      "metadata": {
        "id": "uBCRHgeivrWd"
      },
      "execution_count": 9,
      "outputs": []
    },
    {
      "cell_type": "code",
      "source": [
        "# create the model\n",
        "tf.random.set_seed(42)\n",
        "\n",
        "model1=tf.keras.Sequential([\n",
        "    tf.keras.layers.Dense(1)\n",
        "])\n",
        "\n",
        "# compiling the model\n",
        "model1.compile(loss=tf.keras.losses.mae,\n",
        "               optimizer=tf.keras.optimizers.SGD(),\n",
        "               metrics=[\"mae\"])\n",
        "#fitting the model\n",
        "model1.fit(x,y,epochs=50,verbose=0)"
      ],
      "metadata": {
        "colab": {
          "base_uri": "https://localhost:8080/"
        },
        "id": "3LHnAsjXnsxS",
        "outputId": "9bca55ef-d935-482e-fe7d-2ed98605ca70"
      },
      "execution_count": 10,
      "outputs": [
        {
          "output_type": "execute_result",
          "data": {
            "text/plain": [
              "<keras.src.callbacks.history.History at 0x7d5108c996f0>"
            ]
          },
          "metadata": {},
          "execution_count": 10
        }
      ]
    },
    {
      "cell_type": "markdown",
      "source": [
        "# Evaluate the model"
      ],
      "metadata": {
        "id": "mQQYVPIq4dzu"
      }
    },
    {
      "cell_type": "code",
      "source": [
        "loss1,mae1=model1.evaluate(x,y)\n",
        "loss1,mae1"
      ],
      "metadata": {
        "colab": {
          "base_uri": "https://localhost:8080/"
        },
        "id": "F5T3J4XR4gq-",
        "outputId": "c1332efd-fca8-4f2c-9a93-be881de0fe07"
      },
      "execution_count": 11,
      "outputs": [
        {
          "output_type": "stream",
          "name": "stdout",
          "text": [
            "\u001b[1m1/1\u001b[0m \u001b[32m━━━━━━━━━━━━━━━━━━━━\u001b[0m\u001b[37m\u001b[0m \u001b[1m0s\u001b[0m 119ms/step - loss: 4.1480 - mae: 4.1480\n"
          ]
        },
        {
          "output_type": "execute_result",
          "data": {
            "text/plain": [
              "(4.147993087768555, 4.147993087768555)"
            ]
          },
          "metadata": {},
          "execution_count": 11
        }
      ]
    },
    {
      "cell_type": "markdown",
      "source": [
        "# Predicting on a value"
      ],
      "metadata": {
        "id": "y8afLrVe4r_u"
      }
    },
    {
      "cell_type": "code",
      "source": [
        "predict1 = model1.predict(tf.constant([[28.0]]))\n",
        "predict1\n"
      ],
      "metadata": {
        "colab": {
          "base_uri": "https://localhost:8080/"
        },
        "id": "lqY1JHE2wdFO",
        "outputId": "5b528e30-a618-4cbd-ed0c-93f65e462c09"
      },
      "execution_count": 12,
      "outputs": [
        {
          "output_type": "stream",
          "name": "stdout",
          "text": [
            "\u001b[1m1/1\u001b[0m \u001b[32m━━━━━━━━━━━━━━━━━━━━\u001b[0m\u001b[37m\u001b[0m \u001b[1m0s\u001b[0m 48ms/step\n"
          ]
        },
        {
          "output_type": "execute_result",
          "data": {
            "text/plain": [
              "array([[45.586155]], dtype=float32)"
            ]
          },
          "metadata": {},
          "execution_count": 12
        }
      ]
    },
    {
      "cell_type": "markdown",
      "source": [
        "# Model 2"
      ],
      "metadata": {
        "id": "1SUrKF4Ty4kP"
      }
    },
    {
      "cell_type": "code",
      "source": [
        "# create the model\n",
        "model2=tf.keras.Sequential([\n",
        "    tf.keras.layers.Dense(1),\n",
        "    tf.keras.layers.Dense(20,activation=\"relu\"),\n",
        "    tf.keras.layers.Dense(1)\n",
        "])\n",
        "\n",
        "#compile the model\n",
        "model2.compile(loss=tf.keras.losses.mae,\n",
        "               optimizer=tf.keras.optimizers.SGD(learning_rate=0.01),\n",
        "               metrics=[\"mae\"])\n",
        "\n",
        "#fit the model\n",
        "model2.fit(x,y,epochs=50,verbose=0)\n",
        "\n",
        "\n"
      ],
      "metadata": {
        "colab": {
          "base_uri": "https://localhost:8080/"
        },
        "id": "GmlsXnEFyCU4",
        "outputId": "6d43eb58-4779-44f2-ec3e-74aa46a61ad7"
      },
      "execution_count": 13,
      "outputs": [
        {
          "output_type": "execute_result",
          "data": {
            "text/plain": [
              "<keras.src.callbacks.history.History at 0x7d5108cecaf0>"
            ]
          },
          "metadata": {},
          "execution_count": 13
        }
      ]
    },
    {
      "cell_type": "code",
      "source": [
        "loss2,mae2=model2.evaluate(x,y)\n",
        "loss2,mae2"
      ],
      "metadata": {
        "colab": {
          "base_uri": "https://localhost:8080/"
        },
        "id": "tiLCc1Q44xVv",
        "outputId": "406f9627-0e44-4d8c-8f7a-b27631da65d3"
      },
      "execution_count": 14,
      "outputs": [
        {
          "output_type": "stream",
          "name": "stdout",
          "text": [
            "\u001b[1m1/1\u001b[0m \u001b[32m━━━━━━━━━━━━━━━━━━━━\u001b[0m\u001b[37m\u001b[0m \u001b[1m0s\u001b[0m 132ms/step - loss: 4.8092 - mae: 4.8092\n"
          ]
        },
        {
          "output_type": "execute_result",
          "data": {
            "text/plain": [
              "(4.809168338775635, 4.809168338775635)"
            ]
          },
          "metadata": {},
          "execution_count": 14
        }
      ]
    },
    {
      "cell_type": "code",
      "source": [
        "predict2= model2.predict(tf.constant([[25.0]]))\n",
        "predict2"
      ],
      "metadata": {
        "colab": {
          "base_uri": "https://localhost:8080/"
        },
        "id": "QQMoJxSbzuUv",
        "outputId": "dd775f79-69a0-421c-f5ce-1ff8c82aaa81"
      },
      "execution_count": 15,
      "outputs": [
        {
          "output_type": "stream",
          "name": "stdout",
          "text": [
            "\u001b[1m1/1\u001b[0m \u001b[32m━━━━━━━━━━━━━━━━━━━━\u001b[0m\u001b[37m\u001b[0m \u001b[1m0s\u001b[0m 46ms/step\n"
          ]
        },
        {
          "output_type": "execute_result",
          "data": {
            "text/plain": [
              "array([[45.606255]], dtype=float32)"
            ]
          },
          "metadata": {},
          "execution_count": 15
        }
      ]
    },
    {
      "cell_type": "code",
      "source": [
        "#creating the model\n",
        "model3=tf.keras.Sequential([\n",
        "    tf.keras.layers.Dense(1),\n",
        "    tf.keras.layers.Dense(20,activation=\"relu\"),\n",
        "    tf.keras.layers.Dense(20,activation=\"relu\"),\n",
        "    tf.keras.layers.Dense(1)\n",
        "])\n",
        "\n",
        "#compiling the model\n",
        "model3.compile(loss=\"mae\",\n",
        "              optimizer=tf.keras.optimizers.Adam(learning_rate=0.05),\n",
        "              metrics=[\"mae\"])\n",
        "#fit the model\n",
        "model3.fit(x,y,epochs=50,verbose=0)\n",
        "\n",
        "\n",
        "\n",
        "\n"
      ],
      "metadata": {
        "colab": {
          "base_uri": "https://localhost:8080/"
        },
        "id": "3tXKT1XP1Ca_",
        "outputId": "c74725e5-c0bd-43eb-8206-966deda81f60"
      },
      "execution_count": 47,
      "outputs": [
        {
          "output_type": "execute_result",
          "data": {
            "text/plain": [
              "<keras.src.callbacks.history.History at 0x7d50eeba6fb0>"
            ]
          },
          "metadata": {},
          "execution_count": 47
        }
      ]
    },
    {
      "cell_type": "code",
      "source": [
        "loss3,mae3=model3.evaluate(x,y)\n",
        "loss3,mae3"
      ],
      "metadata": {
        "colab": {
          "base_uri": "https://localhost:8080/"
        },
        "id": "TCA-Q48E3xvP",
        "outputId": "df6bb040-381b-4833-b11b-a9b7c81ec891"
      },
      "execution_count": 48,
      "outputs": [
        {
          "output_type": "stream",
          "name": "stdout",
          "text": [
            "\u001b[1m1/1\u001b[0m \u001b[32m━━━━━━━━━━━━━━━━━━━━\u001b[0m\u001b[37m\u001b[0m \u001b[1m0s\u001b[0m 188ms/step - loss: 0.4255 - mae: 0.4255\n"
          ]
        },
        {
          "output_type": "execute_result",
          "data": {
            "text/plain": [
              "(0.4254570007324219, 0.4254570007324219)"
            ]
          },
          "metadata": {},
          "execution_count": 48
        }
      ]
    },
    {
      "cell_type": "code",
      "source": [
        "predict3=model3.predict(tf.constant([[25.0]]))\n",
        "predict3"
      ],
      "metadata": {
        "colab": {
          "base_uri": "https://localhost:8080/"
        },
        "id": "z_GyN81W4Paf",
        "outputId": "330e16b7-c308-48d6-e4fd-8c9e1cda3327"
      },
      "execution_count": 49,
      "outputs": [
        {
          "output_type": "stream",
          "name": "stdout",
          "text": [
            "\u001b[1m1/1\u001b[0m \u001b[32m━━━━━━━━━━━━━━━━━━━━\u001b[0m\u001b[37m\u001b[0m \u001b[1m0s\u001b[0m 55ms/step\n"
          ]
        },
        {
          "output_type": "execute_result",
          "data": {
            "text/plain": [
              "array([[34.019363]], dtype=float32)"
            ]
          },
          "metadata": {},
          "execution_count": 49
        }
      ]
    },
    {
      "cell_type": "markdown",
      "source": [
        "# model4"
      ],
      "metadata": {
        "id": "AiSBG7O95dAu"
      }
    },
    {
      "cell_type": "code",
      "source": [
        "model4=tf.keras.Sequential([\n",
        "    tf.keras.layers.Dense(1),\n",
        "    tf.keras.layers.Dense(20,activation='relu'),\n",
        "    tf.keras.layers.Dense(20,activation='relu'),\n",
        "    tf.keras.layers.Dense(20,activation='relu'),\n",
        "    tf.keras.layers.Dense(1)\n",
        "])\n",
        "\n",
        "model4.compile(loss=\"mae\",\n",
        "               optimizer=tf.keras.optimizers.SGD(learning_rate=0.03),\n",
        "               metrics=[\"mae\"])\n",
        "\n",
        "\n",
        "\n",
        "\n",
        "model4.fit(x,y,epochs=50,verbose=0)"
      ],
      "metadata": {
        "colab": {
          "base_uri": "https://localhost:8080/"
        },
        "id": "KLnm92d05f_u",
        "outputId": "360f3f5c-5df0-4ed3-ee42-797d9dac702f"
      },
      "execution_count": 29,
      "outputs": [
        {
          "output_type": "execute_result",
          "data": {
            "text/plain": [
              "<keras.src.callbacks.history.History at 0x7d50f5f7ce50>"
            ]
          },
          "metadata": {},
          "execution_count": 29
        }
      ]
    },
    {
      "cell_type": "code",
      "source": [
        "loss4,mae4=model4.evaluate(x,y)\n",
        "loss4,mae4"
      ],
      "metadata": {
        "colab": {
          "base_uri": "https://localhost:8080/"
        },
        "id": "dmwKleiO7Pe3",
        "outputId": "73da70cc-c96a-4ecd-8e21-115895000647"
      },
      "execution_count": 30,
      "outputs": [
        {
          "output_type": "stream",
          "name": "stderr",
          "text": [
            "WARNING:tensorflow:5 out of the last 5 calls to <function TensorFlowTrainer.make_test_function.<locals>.one_step_on_iterator at 0x7d50f18d3760> triggered tf.function retracing. Tracing is expensive and the excessive number of tracings could be due to (1) creating @tf.function repeatedly in a loop, (2) passing tensors with different shapes, (3) passing Python objects instead of tensors. For (1), please define your @tf.function outside of the loop. For (2), @tf.function has reduce_retracing=True option that can avoid unnecessary retracing. For (3), please refer to https://www.tensorflow.org/guide/function#controlling_retracing and https://www.tensorflow.org/api_docs/python/tf/function for  more details.\n"
          ]
        },
        {
          "output_type": "stream",
          "name": "stdout",
          "text": [
            "\u001b[1m1/1\u001b[0m \u001b[32m━━━━━━━━━━━━━━━━━━━━\u001b[0m\u001b[37m\u001b[0m \u001b[1m0s\u001b[0m 137ms/step - loss: 13.2524 - mae: 13.2524\n"
          ]
        },
        {
          "output_type": "execute_result",
          "data": {
            "text/plain": [
              "(13.252374649047852, 13.252374649047852)"
            ]
          },
          "metadata": {},
          "execution_count": 30
        }
      ]
    },
    {
      "cell_type": "code",
      "source": [
        "predict4=model4.predict(tf.constant([[25.0]]))\n",
        "predict4"
      ],
      "metadata": {
        "colab": {
          "base_uri": "https://localhost:8080/"
        },
        "id": "OGFpKPpX7fcX",
        "outputId": "9740250a-7e64-4424-9176-284882c889c4"
      },
      "execution_count": 31,
      "outputs": [
        {
          "output_type": "stream",
          "name": "stdout",
          "text": [
            "\u001b[1m1/1\u001b[0m \u001b[32m━━━━━━━━━━━━━━━━━━━━\u001b[0m\u001b[37m\u001b[0m \u001b[1m0s\u001b[0m 60ms/step\n"
          ]
        },
        {
          "output_type": "execute_result",
          "data": {
            "text/plain": [
              "array([[68.81617]], dtype=float32)"
            ]
          },
          "metadata": {},
          "execution_count": 31
        }
      ]
    },
    {
      "cell_type": "markdown",
      "source": [
        "# Model 5\n"
      ],
      "metadata": {
        "id": "P3Y9RZd8Kg0L"
      }
    },
    {
      "cell_type": "code",
      "source": [
        "#creating the model\n",
        "model5=tf.keras.Sequential([\n",
        "    tf.keras.layers.Dense(1),\n",
        "    tf.keras.layers.Dense(30,activation=\"relu\"),\n",
        "    tf.keras.layers.Dense(30,activation=\"relu\"),\n",
        "    tf.keras.layers.Dense(30,activation=\"relu\"),\n",
        "    tf.keras.layers.Dense(1)\n",
        "])\n",
        "\n",
        "#compiling the model\n",
        "model5.compile(loss=\"mae\",\n",
        "              optimizer=tf.keras.optimizers.Adam(learning_rate=0.05),\n",
        "              metrics=[\"mae\"])\n",
        "#fit the model\n",
        "model5.fit(x,y,epochs=50,verbose=0)\n"
      ],
      "metadata": {
        "colab": {
          "base_uri": "https://localhost:8080/"
        },
        "id": "5JW4tppLKjqq",
        "outputId": "a6a60b4c-9ec0-4b5d-f4ea-eb3316630e0d"
      },
      "execution_count": 45,
      "outputs": [
        {
          "output_type": "execute_result",
          "data": {
            "text/plain": [
              "<keras.src.callbacks.history.History at 0x7d51059ca8f0>"
            ]
          },
          "metadata": {},
          "execution_count": 45
        }
      ]
    },
    {
      "cell_type": "code",
      "source": [
        "loss5,mae5=model5.evaluate(x,y)\n",
        "loss5,mae5"
      ],
      "metadata": {
        "colab": {
          "base_uri": "https://localhost:8080/"
        },
        "id": "dOlPuGFPKvXT",
        "outputId": "6e992635-5790-4447-d018-867419548372"
      },
      "execution_count": 46,
      "outputs": [
        {
          "output_type": "stream",
          "name": "stdout",
          "text": [
            "\u001b[1m1/1\u001b[0m \u001b[32m━━━━━━━━━━━━━━━━━━━━\u001b[0m\u001b[37m\u001b[0m \u001b[1m0s\u001b[0m 136ms/step - loss: 0.5531 - mae: 0.5531\n"
          ]
        },
        {
          "output_type": "execute_result",
          "data": {
            "text/plain": [
              "(0.5530978441238403, 0.5530978441238403)"
            ]
          },
          "metadata": {},
          "execution_count": 46
        }
      ]
    },
    {
      "cell_type": "code",
      "source": [
        "predict5=model5.predict(tf.constant([[25.0]]))\n",
        "predict5"
      ],
      "metadata": {
        "colab": {
          "base_uri": "https://localhost:8080/"
        },
        "id": "c4oqsKqBLOXj",
        "outputId": "57591bb3-4f2d-4176-ddac-63f3f3a1a8ec"
      },
      "execution_count": 50,
      "outputs": [
        {
          "output_type": "stream",
          "name": "stdout",
          "text": [
            "\u001b[1m1/1\u001b[0m \u001b[32m━━━━━━━━━━━━━━━━━━━━\u001b[0m\u001b[37m\u001b[0m \u001b[1m0s\u001b[0m 92ms/step\n"
          ]
        },
        {
          "output_type": "execute_result",
          "data": {
            "text/plain": [
              "array([[35.486298]], dtype=float32)"
            ]
          },
          "metadata": {},
          "execution_count": 50
        }
      ]
    },
    {
      "cell_type": "code",
      "source": [
        "print(\"loses of models 1-4 \",loss1,loss2,loss3,loss4,loss5)\n",
        "print(\"mae of models 1-4 \" ,mae1,mae2,mae3,mae4,mae5)"
      ],
      "metadata": {
        "colab": {
          "base_uri": "https://localhost:8080/"
        },
        "id": "oLoth7aF70HX",
        "outputId": "08e3a4e9-f45f-4b5e-994b-92c5d9ce4df9"
      },
      "execution_count": 51,
      "outputs": [
        {
          "output_type": "stream",
          "name": "stdout",
          "text": [
            "loses of models 1-4  4.147993087768555 4.809168338775635 0.4254570007324219 13.252374649047852 0.5530978441238403\n",
            "mae of models 1-4  4.147993087768555 4.809168338775635 0.4254570007324219 13.252374649047852 0.5530978441238403\n"
          ]
        }
      ]
    },
    {
      "cell_type": "code",
      "source": [
        "print(\"predict of models 1-4 \",predict1,predict2,predict3,predict4,predict5)"
      ],
      "metadata": {
        "colab": {
          "base_uri": "https://localhost:8080/"
        },
        "id": "KRSO0zcp_x5w",
        "outputId": "8cc4c21d-6de3-41fa-e488-fdbe82e1f793"
      },
      "execution_count": 53,
      "outputs": [
        {
          "output_type": "stream",
          "name": "stdout",
          "text": [
            "predict of models 1-4  [[45.586155]] [[45.606255]] [[34.019363]] [[68.81617]] [[35.486298]]\n"
          ]
        }
      ]
    },
    {
      "cell_type": "markdown",
      "source": [
        "# Visualizing"
      ],
      "metadata": {
        "id": "oM1_4pfIK0Yn"
      }
    },
    {
      "cell_type": "code",
      "source": [
        "# Storing losses and predictions\n",
        "losses = [loss1, loss2, loss3, loss4,loss5]\n",
        "predictions = [predict1[0][0], predict2[0][0], predict3[0][0], predict4[0][0],predict5[0][0]]\n",
        "model_names = [\"Model 1\", \"Model 2\", \"Model 3\", \"Model 4\",\"Model 5\"]\n",
        "\n",
        "# Plotting losses\n",
        "plt.figure(figsize=(10, 5))\n",
        "plt.subplot(1, 2, 1)\n",
        "plt.bar(model_names, losses, color='skyblue')\n",
        "plt.title(\"Loss Comparison\")\n",
        "plt.ylabel(\"Loss (MAE)\")\n",
        "plt.xlabel(\"Models\")\n",
        "\n",
        "# Plotting predictions\n",
        "plt.subplot(1, 2, 2)\n",
        "plt.bar(model_names, predictions, color='lightgreen')\n",
        "plt.title(\"Prediction Comparison (for x=25)\")\n",
        "plt.ylabel(\"Predicted Value\")\n",
        "plt.xlabel(\"Models\")\n",
        "\n",
        "# Displaying the plots\n",
        "plt.tight_layout()\n",
        "plt.show()"
      ],
      "metadata": {
        "colab": {
          "base_uri": "https://localhost:8080/",
          "height": 507
        },
        "id": "UQK6OGxmK3s3",
        "outputId": "5fb46a1b-e269-49f8-86f0-86732b6d04f8"
      },
      "execution_count": 55,
      "outputs": [
        {
          "output_type": "display_data",
          "data": {
            "text/plain": [
              "<Figure size 1000x500 with 2 Axes>"
            ],
            "image/png": "[encoded data removed]"
          },
          "metadata": {}
        }
      ]
    },
    {
      "cell_type": "code",
      "source": [
        "model1.predict(tf.constant([28])),model2.predict(tf.constant([28])),model3.predict(tf.constant([28])),model4.predict(tf.constant([28])),model5.predict(tf.constant([28]))"
      ],
      "metadata": {
        "colab": {
          "base_uri": "https://localhost:8080/"
        },
        "id": "ETOaPiavJoiC",
        "outputId": "1d654a94-b4cb-4384-a86b-8e377759a61e"
      },
      "execution_count": 56,
      "outputs": [
        {
          "output_type": "stream",
          "name": "stdout",
          "text": [
            "\u001b[1m1/1\u001b[0m \u001b[32m━━━━━━━━━━━━━━━━━━━━\u001b[0m\u001b[37m\u001b[0m \u001b[1m0s\u001b[0m 22ms/step\n",
            "\u001b[1m1/1\u001b[0m \u001b[32m━━━━━━━━━━━━━━━━━━━━\u001b[0m\u001b[37m\u001b[0m \u001b[1m0s\u001b[0m 20ms/step\n",
            "\u001b[1m1/1\u001b[0m \u001b[32m━━━━━━━━━━━━━━━━━━━━\u001b[0m\u001b[37m\u001b[0m \u001b[1m0s\u001b[0m 61ms/step\n",
            "\u001b[1m1/1\u001b[0m \u001b[32m━━━━━━━━━━━━━━━━━━━━\u001b[0m\u001b[37m\u001b[0m \u001b[1m0s\u001b[0m 19ms/step\n",
            "\u001b[1m1/1\u001b[0m \u001b[32m━━━━━━━━━━━━━━━━━━━━\u001b[0m\u001b[37m\u001b[0m \u001b[1m0s\u001b[0m 69ms/step\n"
          ]
        },
        {
          "output_type": "execute_result",
          "data": {
            "text/plain": [
              "(array([[45.586155]], dtype=float32),\n",
              " array([[51.01084]], dtype=float32),\n",
              " array([[36.863487]], dtype=float32),\n",
              " array([[76.6904]], dtype=float32),\n",
              " array([[38.4748]], dtype=float32))"
            ]
          },
          "metadata": {},
          "execution_count": 56
        }
      ]
    }
  ]
}
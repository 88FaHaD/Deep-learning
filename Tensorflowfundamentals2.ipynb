{
  "nbformat": 4,
  "nbformat_minor": 0,
  "metadata": {
    "colab": {
      "provenance": [],
      "authorship_tag": "ABX9TyM1zuSlGILvLVCxMS3Oq7M/",
      "include_colab_link": true
    },
    "kernelspec": {
      "name": "python3",
      "display_name": "Python 3"
    },
    "language_info": {
      "name": "python"
    }
  },
  "cells": [
    {
      "cell_type": "markdown",
      "metadata": {
        "id": "view-in-github",
        "colab_type": "text"
      },
      "source": [
        "<a href=\"https://colab.research.google.com/github/88FaHaD/Deep-learning/blob/main/Tensorflowfundamentals2.ipynb\" target=\"_parent\"><img src=\"https://colab.research.google.com/assets/colab-badge.svg\" alt=\"Open In Colab\"/></a>"
      ]
    },
    {
      "cell_type": "markdown",
      "source": [
        "# Changing datatypes\n",
        "a=tf.cast(a,dtype=tf.float16)\n"
      ],
      "metadata": {
        "id": "DmyTNTxhvRmz"
      }
    },
    {
      "cell_type": "code",
      "source": [
        "import tensorflow as tf"
      ],
      "metadata": {
        "id": "jWD8ggtJvl7U"
      },
      "execution_count": null,
      "outputs": []
    },
    {
      "cell_type": "code",
      "execution_count": null,
      "metadata": {
        "colab": {
          "base_uri": "https://localhost:8080/"
        },
        "id": "8_pIFq_Qtzpy",
        "outputId": "aca9a30f-eeff-4524-dc0c-bc9a64e4e4ba"
      },
      "outputs": [
        {
          "output_type": "execute_result",
          "data": {
            "text/plain": [
              "tf.float32"
            ]
          },
          "metadata": {},
          "execution_count": 2
        }
      ],
      "source": [
        "a=tf.constant([[3,5],[4,5]],tf.float32)\n",
        "a.dtype"
      ]
    },
    {
      "cell_type": "markdown",
      "source": [
        "# Reduced precision\n",
        "Precision refers to how accurate a number is when stored or calculated. Higher precision means more accuracy, and lower precision means less accuracy. higher precision means more memory is needed.\n",
        "\n",
        "Reduced Precision uses fewer bits to store numbers, making calculations faster and using less memory but with a slight loss in accuracy."
      ],
      "metadata": {
        "id": "TyPpLgqgwLwy"
      }
    },
    {
      "cell_type": "code",
      "source": [
        "a=tf.cast(a,dtype=tf.float16)\n",
        "a"
      ],
      "metadata": {
        "colab": {
          "base_uri": "https://localhost:8080/"
        },
        "id": "isulw72lwLMU",
        "outputId": "f062e7ba-4085-4612-8fb0-3b1992187b38"
      },
      "execution_count": null,
      "outputs": [
        {
          "output_type": "execute_result",
          "data": {
            "text/plain": [
              "<tf.Tensor: shape=(2, 2), dtype=float16, numpy=\n",
              "array([[3., 5.],\n",
              "       [4., 5.]], dtype=float16)>"
            ]
          },
          "metadata": {},
          "execution_count": 3
        }
      ]
    },
    {
      "cell_type": "code",
      "source": [
        "b=tf.constant([[3,5],[4,5]],tf.float32)\n",
        "b=tf.cast(b,dtype=tf.int8)\n",
        "b"
      ],
      "metadata": {
        "colab": {
          "base_uri": "https://localhost:8080/"
        },
        "id": "lf1gQogKzX6K",
        "outputId": "5b37ed92-31b0-4e73-923c-1f9d0b0b5526"
      },
      "execution_count": null,
      "outputs": [
        {
          "output_type": "execute_result",
          "data": {
            "text/plain": [
              "<tf.Tensor: shape=(2, 2), dtype=int8, numpy=\n",
              "array([[3, 5],\n",
              "       [4, 5]], dtype=int8)>"
            ]
          },
          "metadata": {},
          "execution_count": 4
        }
      ]
    },
    {
      "cell_type": "markdown",
      "source": [
        "# Agregating tensors\n",
        "condensing tensors from multiple values to smaller amount of values\n",
        "tf.abs take the negative values and get\n",
        "\n",
        "1.   tf.abs take the negative values and get the postive values\n",
        "2.   tf.reduce_min(t) gives the minimum value of a tensor\n",
        "3.   tf.reduce_max(t) gives the maximum value of tensor\n",
        "4.   tf.reduce_mean(t) gives the mean value of tensor\n",
        "5.   tf.reduce_sum(t) sum of tensor\n",
        "6.   tf.math.reduce_variance(t) gives the variance how spread out values are from mean\n",
        "7.   tf.math.reduce_std(t) gives standard deviation is the square root of the variance, providing a measure of the average distance of the data points from the mean.\n",
        "\n",
        "\n",
        "\n",
        "\n",
        "\n",
        "\n",
        "\n"
      ],
      "metadata": {
        "id": "OzKH7eyHz1h8"
      }
    },
    {
      "cell_type": "code",
      "source": [
        "#get the absolute values\n",
        "f=tf.constant([-10,-20,-30])\n",
        "f=tf.abs(f)\n",
        "f"
      ],
      "metadata": {
        "colab": {
          "base_uri": "https://localhost:8080/"
        },
        "id": "Zyaj-F0pz5xE",
        "outputId": "fb1e303c-8885-4506-9993-0f83044c67ec"
      },
      "execution_count": null,
      "outputs": [
        {
          "output_type": "execute_result",
          "data": {
            "text/plain": [
              "<tf.Tensor: shape=(3,), dtype=int32, numpy=array([10, 20, 30], dtype=int32)>"
            ]
          },
          "metadata": {},
          "execution_count": 5
        }
      ]
    },
    {
      "cell_type": "code",
      "source": [
        "# geting the minimum value\n",
        "f=tf.constant([1,2,3,4,-2,5,8])\n",
        "min_val=tf.reduce_min(f)\n",
        "min_val"
      ],
      "metadata": {
        "colab": {
          "base_uri": "https://localhost:8080/"
        },
        "id": "HiI6VJf21Lcj",
        "outputId": "42fd2d96-5369-4fba-84a8-b26640fb7c1d"
      },
      "execution_count": null,
      "outputs": [
        {
          "output_type": "execute_result",
          "data": {
            "text/plain": [
              "<tf.Tensor: shape=(), dtype=int32, numpy=-2>"
            ]
          },
          "metadata": {},
          "execution_count": 6
        }
      ]
    },
    {
      "cell_type": "code",
      "source": [
        "# geting the maximum value\n",
        "max_val=tf.reduce_max(f)\n",
        "max_val"
      ],
      "metadata": {
        "colab": {
          "base_uri": "https://localhost:8080/"
        },
        "id": "FaoDPDhG2L2T",
        "outputId": "e6b46071-c604-4631-d46a-d45657e1eeda"
      },
      "execution_count": null,
      "outputs": [
        {
          "output_type": "execute_result",
          "data": {
            "text/plain": [
              "<tf.Tensor: shape=(), dtype=int32, numpy=8>"
            ]
          },
          "metadata": {},
          "execution_count": 7
        }
      ]
    },
    {
      "cell_type": "code",
      "source": [
        "# geting the mean\n",
        "mean_val=tf.reduce_mean(f)\n",
        "mean_val"
      ],
      "metadata": {
        "colab": {
          "base_uri": "https://localhost:8080/"
        },
        "id": "vx7Glo_82-0E",
        "outputId": "01b9b5a7-d773-4a5a-859e-9893f8ed4a18"
      },
      "execution_count": null,
      "outputs": [
        {
          "output_type": "execute_result",
          "data": {
            "text/plain": [
              "<tf.Tensor: shape=(), dtype=int32, numpy=3>"
            ]
          },
          "metadata": {},
          "execution_count": 8
        }
      ]
    },
    {
      "cell_type": "code",
      "source": [
        "# sum of tensor\n",
        "sum_val=tf.reduce_sum(f);\n",
        "sum_val\n",
        "\n"
      ],
      "metadata": {
        "colab": {
          "base_uri": "https://localhost:8080/"
        },
        "id": "bLnvCn7i3pIr",
        "outputId": "81a76176-031f-497c-934f-ddbe056027ab"
      },
      "execution_count": null,
      "outputs": [
        {
          "output_type": "execute_result",
          "data": {
            "text/plain": [
              "<tf.Tensor: shape=(), dtype=int32, numpy=21>"
            ]
          },
          "metadata": {},
          "execution_count": 9
        }
      ]
    },
    {
      "cell_type": "code",
      "source": [
        "# variance requires floating point numbers\n",
        "z=tf.cast(f,dtype=tf.float32)\n",
        "var_val=tf.math.reduce_variance(z)\n",
        "var_val\n"
      ],
      "metadata": {
        "colab": {
          "base_uri": "https://localhost:8080/"
        },
        "id": "8NhRD9Qy4Wiq",
        "outputId": "53d342e5-4e2f-41df-87d9-1d93c404929b"
      },
      "execution_count": null,
      "outputs": [
        {
          "output_type": "execute_result",
          "data": {
            "text/plain": [
              "<tf.Tensor: shape=(), dtype=float32, numpy=8.571428>"
            ]
          },
          "metadata": {},
          "execution_count": 10
        }
      ]
    },
    {
      "cell_type": "code",
      "source": [
        "# standard deviation\n",
        "std_val=tf.math.reduce_std(z)\n",
        "std_val"
      ],
      "metadata": {
        "colab": {
          "base_uri": "https://localhost:8080/"
        },
        "id": "osXalFzD6adr",
        "outputId": "388b7632-0a13-4148-9482-e8cdc0bfed8b"
      },
      "execution_count": null,
      "outputs": [
        {
          "output_type": "execute_result",
          "data": {
            "text/plain": [
              "<tf.Tensor: shape=(), dtype=float32, numpy=2.9277003>"
            ]
          },
          "metadata": {},
          "execution_count": 11
        }
      ]
    },
    {
      "cell_type": "markdown",
      "source": [
        "# finding positional maximum and minimum\n",
        "\n",
        "used when neural network prediction output is given and we want to find the positional maximum and minimum in these outputs"
      ],
      "metadata": {
        "id": "hmsSHeB9hBB3"
      }
    },
    {
      "cell_type": "code",
      "source": [
        "tf.random.set_seed(42)\n",
        "t=tf.random.uniform(shape=[50])\n",
        "t"
      ],
      "metadata": {
        "id": "VoPuPy93hJ_X",
        "colab": {
          "base_uri": "https://localhost:8080/"
        },
        "outputId": "2cc88652-27c8-47fa-ee53-14414b36d37b"
      },
      "execution_count": 18,
      "outputs": [
        {
          "output_type": "execute_result",
          "data": {
            "text/plain": [
              "<tf.Tensor: shape=(50,), dtype=float32, numpy=\n",
              "array([0.6645621 , 0.44100678, 0.3528825 , 0.46448255, 0.03366041,\n",
              "       0.68467236, 0.74011743, 0.8724445 , 0.22632635, 0.22319686,\n",
              "       0.3103881 , 0.7223358 , 0.13318717, 0.5480639 , 0.5746088 ,\n",
              "       0.8996835 , 0.00946367, 0.5212307 , 0.6345445 , 0.1993283 ,\n",
              "       0.72942245, 0.54583454, 0.10756552, 0.6767061 , 0.6602763 ,\n",
              "       0.33695042, 0.60141766, 0.21062577, 0.8527372 , 0.44062173,\n",
              "       0.9485276 , 0.23752594, 0.81179297, 0.5263394 , 0.494308  ,\n",
              "       0.21612847, 0.8457197 , 0.8718841 , 0.3083862 , 0.6868038 ,\n",
              "       0.23764038, 0.7817228 , 0.9671384 , 0.06870162, 0.79873943,\n",
              "       0.66028714, 0.5871513 , 0.16461694, 0.7381023 , 0.32054043],\n",
              "      dtype=float32)>"
            ]
          },
          "metadata": {},
          "execution_count": 18
        }
      ]
    },
    {
      "cell_type": "markdown",
      "source": [
        "# Positional maximum is found using\n",
        "tf.argmax() gives the position where the maximum value is"
      ],
      "metadata": {
        "id": "UK0jzNvWmghn"
      }
    },
    {
      "cell_type": "code",
      "source": [
        "tf.argmax(t)\n"
      ],
      "metadata": {
        "colab": {
          "base_uri": "https://localhost:8080/"
        },
        "id": "HIIWYRR0mn-P",
        "outputId": "150caecf-87d2-4fd9-e49c-91fe2355330b"
      },
      "execution_count": 21,
      "outputs": [
        {
          "output_type": "execute_result",
          "data": {
            "text/plain": [
              "<tf.Tensor: shape=(), dtype=int64, numpy=42>"
            ]
          },
          "metadata": {},
          "execution_count": 21
        }
      ]
    },
    {
      "cell_type": "code",
      "source": [
        "# get the vhighest value\n",
        "t[tf.argmax(t)]"
      ],
      "metadata": {
        "colab": {
          "base_uri": "https://localhost:8080/"
        },
        "id": "_ak5LEpqm5Qg",
        "outputId": "f845986b-6331-4e4e-901b-3e0c3c0c498e"
      },
      "execution_count": 23,
      "outputs": [
        {
          "output_type": "execute_result",
          "data": {
            "text/plain": [
              "<tf.Tensor: shape=(), dtype=float32, numpy=0.9671384>"
            ]
          },
          "metadata": {},
          "execution_count": 23
        }
      ]
    },
    {
      "cell_type": "code",
      "source": [
        "tf.reduce_max(t)"
      ],
      "metadata": {
        "colab": {
          "base_uri": "https://localhost:8080/"
        },
        "id": "3zynI-yPnckx",
        "outputId": "ab88e589-27f6-4f8d-cea0-6ed70e129bb9"
      },
      "execution_count": 24,
      "outputs": [
        {
          "output_type": "execute_result",
          "data": {
            "text/plain": [
              "<tf.Tensor: shape=(), dtype=float32, numpy=0.9671384>"
            ]
          },
          "metadata": {},
          "execution_count": 24
        }
      ]
    },
    {
      "cell_type": "code",
      "source": [
        "# checking if the max values are equal\n",
        "t[tf.argmax(t)]==tf.reduce_max(t)"
      ],
      "metadata": {
        "colab": {
          "base_uri": "https://localhost:8080/"
        },
        "id": "kNt8-KkInf5A",
        "outputId": "9ea036dd-30f8-4e24-e19c-fbe2702cd1e5"
      },
      "execution_count": 26,
      "outputs": [
        {
          "output_type": "execute_result",
          "data": {
            "text/plain": [
              "<tf.Tensor: shape=(), dtype=bool, numpy=True>"
            ]
          },
          "metadata": {},
          "execution_count": 26
        }
      ]
    },
    {
      "cell_type": "markdown",
      "source": [
        "# Positional Minimum\n",
        "tf.argmin(t)"
      ],
      "metadata": {
        "id": "XvgLWoDZoIao"
      }
    },
    {
      "cell_type": "code",
      "source": [
        "tf.argmin(t)"
      ],
      "metadata": {
        "colab": {
          "base_uri": "https://localhost:8080/"
        },
        "id": "-kd1DXcLoPsQ",
        "outputId": "b1461c58-1ecc-4678-88e5-7f76b4799e7d"
      },
      "execution_count": 27,
      "outputs": [
        {
          "output_type": "execute_result",
          "data": {
            "text/plain": [
              "<tf.Tensor: shape=(), dtype=int64, numpy=16>"
            ]
          },
          "metadata": {},
          "execution_count": 27
        }
      ]
    },
    {
      "cell_type": "code",
      "source": [
        "#printing the value\n",
        "t[tf.argmin(t)]"
      ],
      "metadata": {
        "colab": {
          "base_uri": "https://localhost:8080/"
        },
        "id": "vZtwlhQioUwf",
        "outputId": "9da93b08-b642-4768-abe4-80535cd91145"
      },
      "execution_count": 28,
      "outputs": [
        {
          "output_type": "execute_result",
          "data": {
            "text/plain": [
              "<tf.Tensor: shape=(), dtype=float32, numpy=0.009463668>"
            ]
          },
          "metadata": {},
          "execution_count": 28
        }
      ]
    },
    {
      "cell_type": "code",
      "source": [
        "tf.reduce_min(t)"
      ],
      "metadata": {
        "colab": {
          "base_uri": "https://localhost:8080/"
        },
        "id": "ximxzqLgoejQ",
        "outputId": "f91df36e-49fa-4be0-c37d-d552977ac855"
      },
      "execution_count": 29,
      "outputs": [
        {
          "output_type": "execute_result",
          "data": {
            "text/plain": [
              "<tf.Tensor: shape=(), dtype=float32, numpy=0.009463668>"
            ]
          },
          "metadata": {},
          "execution_count": 29
        }
      ]
    },
    {
      "cell_type": "code",
      "source": [
        "#checking if minimum value are equal\n",
        "t[tf.argmin(t)]==tf.reduce_min(t)"
      ],
      "metadata": {
        "colab": {
          "base_uri": "https://localhost:8080/"
        },
        "id": "ZRldaDBmojD_",
        "outputId": "03b8d9f3-55a2-41df-df24-d953116c257a"
      },
      "execution_count": 33,
      "outputs": [
        {
          "output_type": "execute_result",
          "data": {
            "text/plain": [
              "<tf.Tensor: shape=(), dtype=bool, numpy=True>"
            ]
          },
          "metadata": {},
          "execution_count": 33
        }
      ]
    },
    {
      "cell_type": "markdown",
      "source": [
        "# Squeezing a tensor(removing all single dimensions)\n",
        "s_squeezed=tf.squeeze(s)"
      ],
      "metadata": {
        "id": "WhTQ1BEKpJgP"
      }
    },
    {
      "cell_type": "code",
      "source": [
        "tf.random.set_seed(42)\n",
        "s=tf.constant(tf.random.uniform(shape=[50]),shape=(1,1,1,1,50))\n",
        "s"
      ],
      "metadata": {
        "colab": {
          "base_uri": "https://localhost:8080/"
        },
        "id": "S7__tW2kpT1X",
        "outputId": "8019cc8c-12d5-4f7c-d3aa-b609218d7cc0"
      },
      "execution_count": 35,
      "outputs": [
        {
          "output_type": "execute_result",
          "data": {
            "text/plain": [
              "<tf.Tensor: shape=(1, 1, 1, 1, 50), dtype=float32, numpy=\n",
              "array([[[[[0.6645621 , 0.44100678, 0.3528825 , 0.46448255, 0.03366041,\n",
              "           0.68467236, 0.74011743, 0.8724445 , 0.22632635, 0.22319686,\n",
              "           0.3103881 , 0.7223358 , 0.13318717, 0.5480639 , 0.5746088 ,\n",
              "           0.8996835 , 0.00946367, 0.5212307 , 0.6345445 , 0.1993283 ,\n",
              "           0.72942245, 0.54583454, 0.10756552, 0.6767061 , 0.6602763 ,\n",
              "           0.33695042, 0.60141766, 0.21062577, 0.8527372 , 0.44062173,\n",
              "           0.9485276 , 0.23752594, 0.81179297, 0.5263394 , 0.494308  ,\n",
              "           0.21612847, 0.8457197 , 0.8718841 , 0.3083862 , 0.6868038 ,\n",
              "           0.23764038, 0.7817228 , 0.9671384 , 0.06870162, 0.79873943,\n",
              "           0.66028714, 0.5871513 , 0.16461694, 0.7381023 , 0.32054043]]]]],\n",
              "      dtype=float32)>"
            ]
          },
          "metadata": {},
          "execution_count": 35
        }
      ]
    },
    {
      "cell_type": "code",
      "source": [
        "s.shape"
      ],
      "metadata": {
        "colab": {
          "base_uri": "https://localhost:8080/"
        },
        "id": "JnTQmo_lrGMp",
        "outputId": "768dd654-4ce2-4910-82aa-bdd2a6223ec0"
      },
      "execution_count": 36,
      "outputs": [
        {
          "output_type": "execute_result",
          "data": {
            "text/plain": [
              "TensorShape([1, 1, 1, 1, 50])"
            ]
          },
          "metadata": {},
          "execution_count": 36
        }
      ]
    },
    {
      "cell_type": "code",
      "source": [
        "s_squeeze=tf.squeeze(s)\n",
        "s_squeeze\n",
        "print(s_squeeze)\n",
        "print()\n",
        "s_squeeze.shape"
      ],
      "metadata": {
        "colab": {
          "base_uri": "https://localhost:8080/"
        },
        "id": "1Vgrn2UQr1SI",
        "outputId": "380e968f-f29d-4e5d-c01c-b8e3d758f3f2"
      },
      "execution_count": 41,
      "outputs": [
        {
          "output_type": "stream",
          "name": "stdout",
          "text": [
            "tf.Tensor(\n",
            "[0.6645621  0.44100678 0.3528825  0.46448255 0.03366041 0.68467236\n",
            " 0.74011743 0.8724445  0.22632635 0.22319686 0.3103881  0.7223358\n",
            " 0.13318717 0.5480639  0.5746088  0.8996835  0.00946367 0.5212307\n",
            " 0.6345445  0.1993283  0.72942245 0.54583454 0.10756552 0.6767061\n",
            " 0.6602763  0.33695042 0.60141766 0.21062577 0.8527372  0.44062173\n",
            " 0.9485276  0.23752594 0.81179297 0.5263394  0.494308   0.21612847\n",
            " 0.8457197  0.8718841  0.3083862  0.6868038  0.23764038 0.7817228\n",
            " 0.9671384  0.06870162 0.79873943 0.66028714 0.5871513  0.16461694\n",
            " 0.7381023  0.32054043], shape=(50,), dtype=float32)\n",
            "\n"
          ]
        },
        {
          "output_type": "execute_result",
          "data": {
            "text/plain": [
              "TensorShape([50])"
            ]
          },
          "metadata": {},
          "execution_count": 41
        }
      ]
    },
    {
      "cell_type": "markdown",
      "source": [
        "# One hot encoding\n",
        "one hot encoding is used for  numerical encoding for the input data\n",
        "* t_one_hot= tf.one_hot(data,depth)\n",
        "\n",
        "we can also use custom vlaues for one hot encoding\n",
        "\n",
        "\n",
        "\n",
        "*   depth defines the number of positions in the one-hot vector.\n",
        "*  If depth is smaller than the largest number in some_list, it will result in an error.\n",
        "*  If depth is larger than the largest number, extra zeros will be added to the vectors.\n",
        "\n"
      ],
      "metadata": {
        "id": "2MSyHc5AsVf5"
      }
    },
    {
      "cell_type": "code",
      "source": [
        "somelist=[0,1,2,3]\n",
        "tf.one_hot(somelist,depth=4)"
      ],
      "metadata": {
        "colab": {
          "base_uri": "https://localhost:8080/"
        },
        "id": "snXHbdcItv-I",
        "outputId": "6836c1ab-4a32-43ad-f998-ae4935aa452b"
      },
      "execution_count": 53,
      "outputs": [
        {
          "output_type": "execute_result",
          "data": {
            "text/plain": [
              "<tf.Tensor: shape=(4, 4), dtype=float32, numpy=\n",
              "array([[1., 0., 0., 0.],\n",
              "       [0., 1., 0., 0.],\n",
              "       [0., 0., 1., 0.],\n",
              "       [0., 0., 0., 1.]], dtype=float32)>"
            ]
          },
          "metadata": {},
          "execution_count": 53
        }
      ]
    },
    {
      "cell_type": "markdown",
      "source": [
        "# Few more math operations\n",
        "square,log,square root\n",
        "\n",
        "1.   tf.square(t)\n",
        "2.   tf.math.sqrt(t but in float)\n",
        "3.   tf.math.log(t but in float)\n",
        "\n",
        "\n",
        "\n"
      ],
      "metadata": {
        "id": "Fu930XIOv5jR"
      }
    },
    {
      "cell_type": "code",
      "source": [
        "# square\n",
        "sq=tf.range(1,10)\n",
        "tf.square(sq)"
      ],
      "metadata": {
        "colab": {
          "base_uri": "https://localhost:8080/"
        },
        "id": "YvfCub9A1c-Z",
        "outputId": "b44cdcd5-ee87-4e8b-b3d2-74331413fbfe"
      },
      "execution_count": 54,
      "outputs": [
        {
          "output_type": "execute_result",
          "data": {
            "text/plain": [
              "<tf.Tensor: shape=(9,), dtype=int32, numpy=array([ 1,  4,  9, 16, 25, 36, 49, 64, 81], dtype=int32)>"
            ]
          },
          "metadata": {},
          "execution_count": 54
        }
      ]
    },
    {
      "cell_type": "code",
      "source": [
        "# square root\n",
        "sqrt=tf.range(1,10)\n",
        "tf.math.sqrt(tf.cast(sqrt,dtype=tf.float32))"
      ],
      "metadata": {
        "colab": {
          "base_uri": "https://localhost:8080/"
        },
        "id": "WQ3fdtoO1wNx",
        "outputId": "5f1ec132-24de-4e79-d8be-964fa3622944"
      },
      "execution_count": 56,
      "outputs": [
        {
          "output_type": "execute_result",
          "data": {
            "text/plain": [
              "<tf.Tensor: shape=(9,), dtype=float32, numpy=\n",
              "array([1.       , 1.4142135, 1.7320508, 2.       , 2.236068 , 2.4494898,\n",
              "       2.6457512, 2.828427 , 3.       ], dtype=float32)>"
            ]
          },
          "metadata": {},
          "execution_count": 56
        }
      ]
    },
    {
      "cell_type": "code",
      "source": [
        "#log\n",
        "lg=tf.range(1,10)\n",
        "tf.math.log(tf.cast(lg,dtype=tf.float32))"
      ],
      "metadata": {
        "colab": {
          "base_uri": "https://localhost:8080/"
        },
        "id": "FpUf6WB92Q_5",
        "outputId": "262a4114-770c-4495-e57f-c135dec4f02a"
      },
      "execution_count": 58,
      "outputs": [
        {
          "output_type": "execute_result",
          "data": {
            "text/plain": [
              "<tf.Tensor: shape=(9,), dtype=float32, numpy=\n",
              "array([0.       , 0.6931472, 1.0986123, 1.3862944, 1.609438 , 1.7917595,\n",
              "       1.9459102, 2.0794415, 2.1972246], dtype=float32)>"
            ]
          },
          "metadata": {},
          "execution_count": 58
        }
      ]
    },
    {
      "cell_type": "markdown",
      "source": [
        "# tensors and numpy\n",
        "**Note** One of the main difference between numpy and tensors is that tensor run faster on gpu or tpu for faster numerical processing"
      ],
      "metadata": {
        "id": "Sj_SsGxc3Lqx"
      }
    },
    {
      "cell_type": "code",
      "source": [
        "# creating a tensor from numpy array\n",
        "import numpy as np\n",
        "np=np.array([3.,4.,7.,10.])\n",
        "t_np=tf.constant(np)\n",
        "t_np"
      ],
      "metadata": {
        "colab": {
          "base_uri": "https://localhost:8080/"
        },
        "id": "vPzoBivS3Nn5",
        "outputId": "576c107c-c1d2-4b8a-b18f-d97567888d1b"
      },
      "execution_count": 61,
      "outputs": [
        {
          "output_type": "execute_result",
          "data": {
            "text/plain": [
              "<tf.Tensor: shape=(4,), dtype=float64, numpy=array([ 3.,  4.,  7., 10.])>"
            ]
          },
          "metadata": {},
          "execution_count": 61
        }
      ]
    },
    {
      "cell_type": "code",
      "source": [
        "#convert tensor to numpy\n",
        "t_np_numpy = t_np.numpy()\n",
        "t_np_numpy"
      ],
      "metadata": {
        "colab": {
          "base_uri": "https://localhost:8080/"
        },
        "id": "2Kg1nLjT4AkR",
        "outputId": "93df0642-ee4b-4d69-e416-f2ea3f2dd29c"
      },
      "execution_count": 69,
      "outputs": [
        {
          "output_type": "execute_result",
          "data": {
            "text/plain": [
              "array([ 3.,  4.,  7., 10.])"
            ]
          },
          "metadata": {},
          "execution_count": 69
        }
      ]
    },
    {
      "cell_type": "code",
      "source": [
        "t_np.dtype,t_np_numpy.dtype"
      ],
      "metadata": {
        "colab": {
          "base_uri": "https://localhost:8080/"
        },
        "id": "14DWslr55_z6",
        "outputId": "523945fe-a441-4196-f90a-83f71aecc933"
      },
      "execution_count": 73,
      "outputs": [
        {
          "output_type": "execute_result",
          "data": {
            "text/plain": [
              "(tf.float64, dtype('float64'))"
            ]
          },
          "metadata": {},
          "execution_count": 73
        }
      ]
    }
  ]
}